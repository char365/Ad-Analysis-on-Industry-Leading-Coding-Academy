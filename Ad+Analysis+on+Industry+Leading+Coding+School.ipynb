{
 "cells": [
  {
   "cell_type": "code",
   "execution_count": 336,
   "metadata": {
    "collapsed": true
   },
   "outputs": [],
   "source": [
    "import sqlite3 \n",
    "import pandas as pd \n",
    "import seaborn as sns \n",
    "import numpy as np \n",
    "import scipy as sp\n",
    "import matplotlib.pyplot as plt \n",
    "%matplotlib inline \n",
    "\n",
    "database = \"PRIVATE_sqlite_ada.db\"\n",
    "connection = sqlite3.connect(database)\n",
    "\n",
    "currentad = pd.read_sql_query(\"\"\"\n",
    "    SELECT *\n",
    "    FROM CurrentAd ca  \"\"\", connection)\n"
   ]
  },
  {
   "cell_type": "markdown",
   "metadata": {},
   "source": [
    "# CURRENT ADD STATS AND INFO"
   ]
  },
  {
   "cell_type": "code",
   "execution_count": 41,
   "metadata": {},
   "outputs": [
    {
     "data": {
      "text/html": [
       "<div>\n",
       "<style>\n",
       "    .dataframe thead tr:only-child th {\n",
       "        text-align: right;\n",
       "    }\n",
       "\n",
       "    .dataframe thead th {\n",
       "        text-align: left;\n",
       "    }\n",
       "\n",
       "    .dataframe tbody tr th {\n",
       "        vertical-align: top;\n",
       "    }\n",
       "</style>\n",
       "<table border=\"1\" class=\"dataframe\">\n",
       "  <thead>\n",
       "    <tr style=\"text-align: right;\">\n",
       "      <th></th>\n",
       "      <th>index</th>\n",
       "      <th>uuid</th>\n",
       "      <th>num_achievements</th>\n",
       "      <th>num_exercises</th>\n",
       "      <th>num_points</th>\n",
       "      <th>Click</th>\n",
       "      <th>Group</th>\n",
       "      <th>Button</th>\n",
       "      <th>Banner</th>\n",
       "    </tr>\n",
       "  </thead>\n",
       "  <tbody>\n",
       "    <tr>\n",
       "      <th>0</th>\n",
       "      <td>0</td>\n",
       "      <td>981943945</td>\n",
       "      <td>0</td>\n",
       "      <td>0</td>\n",
       "      <td>0</td>\n",
       "      <td>1.0</td>\n",
       "      <td>CurrentAd</td>\n",
       "      <td>No</td>\n",
       "      <td>Yes</td>\n",
       "    </tr>\n",
       "    <tr>\n",
       "      <th>1</th>\n",
       "      <td>2</td>\n",
       "      <td>981944745</td>\n",
       "      <td>0</td>\n",
       "      <td>0</td>\n",
       "      <td>0</td>\n",
       "      <td>0.0</td>\n",
       "      <td>CurrentAd</td>\n",
       "      <td>No</td>\n",
       "      <td>Yes</td>\n",
       "    </tr>\n",
       "    <tr>\n",
       "      <th>2</th>\n",
       "      <td>3</td>\n",
       "      <td>981944801</td>\n",
       "      <td>0</td>\n",
       "      <td>0</td>\n",
       "      <td>0</td>\n",
       "      <td>0.0</td>\n",
       "      <td>CurrentAd</td>\n",
       "      <td>No</td>\n",
       "      <td>Yes</td>\n",
       "    </tr>\n",
       "    <tr>\n",
       "      <th>3</th>\n",
       "      <td>4</td>\n",
       "      <td>981944857</td>\n",
       "      <td>0</td>\n",
       "      <td>0</td>\n",
       "      <td>0</td>\n",
       "      <td>0.0</td>\n",
       "      <td>CurrentAd</td>\n",
       "      <td>No</td>\n",
       "      <td>Yes</td>\n",
       "    </tr>\n",
       "    <tr>\n",
       "      <th>4</th>\n",
       "      <td>6</td>\n",
       "      <td>981960025</td>\n",
       "      <td>0</td>\n",
       "      <td>0</td>\n",
       "      <td>0</td>\n",
       "      <td>0.0</td>\n",
       "      <td>CurrentAd</td>\n",
       "      <td>No</td>\n",
       "      <td>Yes</td>\n",
       "    </tr>\n",
       "  </tbody>\n",
       "</table>\n",
       "</div>"
      ],
      "text/plain": [
       "   index       uuid  num_achievements  num_exercises  num_points  Click  \\\n",
       "0      0  981943945                 0              0           0    1.0   \n",
       "1      2  981944745                 0              0           0    0.0   \n",
       "2      3  981944801                 0              0           0    0.0   \n",
       "3      4  981944857                 0              0           0    0.0   \n",
       "4      6  981960025                 0              0           0    0.0   \n",
       "\n",
       "       Group Button Banner  \n",
       "0  CurrentAd     No    Yes  \n",
       "1  CurrentAd     No    Yes  \n",
       "2  CurrentAd     No    Yes  \n",
       "3  CurrentAd     No    Yes  \n",
       "4  CurrentAd     No    Yes  "
      ]
     },
     "execution_count": 41,
     "metadata": {},
     "output_type": "execute_result"
    }
   ],
   "source": [
    "#***ONLY CURRENT AD*** \n",
    "\n",
    "currentad.head()"
   ]
  },
  {
   "cell_type": "code",
   "execution_count": 47,
   "metadata": {},
   "outputs": [
    {
     "data": {
      "text/plain": [
       "0.0    13727\n",
       "1.0      398\n",
       "Name: Click, dtype: int64"
      ]
     },
     "execution_count": 47,
     "metadata": {},
     "output_type": "execute_result"
    }
   ],
   "source": [
    "currentad['Click'].value_counts()"
   ]
  },
  {
   "cell_type": "code",
   "execution_count": 7,
   "metadata": {},
   "outputs": [
    {
     "data": {
      "text/plain": [
       "(14125, 9)"
      ]
     },
     "execution_count": 7,
     "metadata": {},
     "output_type": "execute_result"
    }
   ],
   "source": [
    "currentad.shape"
   ]
  },
  {
   "cell_type": "code",
   "execution_count": null,
   "metadata": {
    "collapsed": true
   },
   "outputs": [],
   "source": [
    "ca = currentad "
   ]
  },
  {
   "cell_type": "code",
   "execution_count": 13,
   "metadata": {},
   "outputs": [
    {
     "name": "stdout",
     "output_type": "stream",
     "text": [
      "<class 'pandas.core.frame.DataFrame'>\n",
      "RangeIndex: 14125 entries, 0 to 14124\n",
      "Data columns (total 9 columns):\n",
      "index               14125 non-null int64\n",
      "uuid                14125 non-null int64\n",
      "num_achievements    14125 non-null int64\n",
      "num_exercises       14125 non-null int64\n",
      "num_points          14125 non-null int64\n",
      "Click               14125 non-null float64\n",
      "Group               14125 non-null object\n",
      "Button              14125 non-null object\n",
      "Banner              14125 non-null object\n",
      "dtypes: float64(1), int64(5), object(3)\n",
      "memory usage: 993.2+ KB\n"
     ]
    }
   ],
   "source": [
    "ca.info()"
   ]
  },
  {
   "cell_type": "code",
   "execution_count": 15,
   "metadata": {},
   "outputs": [
    {
     "data": {
      "text/plain": [
       "index               0\n",
       "uuid                0\n",
       "num_achievements    0\n",
       "num_exercises       0\n",
       "num_points          0\n",
       "Click               0\n",
       "Group               0\n",
       "Button              0\n",
       "Banner              0\n",
       "dtype: int64"
      ]
     },
     "execution_count": 15,
     "metadata": {},
     "output_type": "execute_result"
    }
   ],
   "source": [
    "ca.isnull().sum()"
   ]
  },
  {
   "cell_type": "code",
   "execution_count": 16,
   "metadata": {},
   "outputs": [
    {
     "data": {
      "text/html": [
       "<div>\n",
       "<style>\n",
       "    .dataframe thead tr:only-child th {\n",
       "        text-align: right;\n",
       "    }\n",
       "\n",
       "    .dataframe thead th {\n",
       "        text-align: left;\n",
       "    }\n",
       "\n",
       "    .dataframe tbody tr th {\n",
       "        vertical-align: top;\n",
       "    }\n",
       "</style>\n",
       "<table border=\"1\" class=\"dataframe\">\n",
       "  <thead>\n",
       "    <tr style=\"text-align: right;\">\n",
       "      <th></th>\n",
       "      <th>index</th>\n",
       "      <th>uuid</th>\n",
       "      <th>num_achievements</th>\n",
       "      <th>num_exercises</th>\n",
       "      <th>num_points</th>\n",
       "      <th>Click</th>\n",
       "    </tr>\n",
       "  </thead>\n",
       "  <tbody>\n",
       "    <tr>\n",
       "      <th>count</th>\n",
       "      <td>14125.00000</td>\n",
       "      <td>1.412500e+04</td>\n",
       "      <td>14125.0</td>\n",
       "      <td>14125.0</td>\n",
       "      <td>14125.0</td>\n",
       "      <td>14125.000000</td>\n",
       "    </tr>\n",
       "    <tr>\n",
       "      <th>mean</th>\n",
       "      <td>11546.40708</td>\n",
       "      <td>1.044499e+09</td>\n",
       "      <td>0.0</td>\n",
       "      <td>0.0</td>\n",
       "      <td>0.0</td>\n",
       "      <td>0.028177</td>\n",
       "    </tr>\n",
       "    <tr>\n",
       "      <th>std</th>\n",
       "      <td>6657.43332</td>\n",
       "      <td>6.771463e+07</td>\n",
       "      <td>0.0</td>\n",
       "      <td>0.0</td>\n",
       "      <td>0.0</td>\n",
       "      <td>0.165484</td>\n",
       "    </tr>\n",
       "    <tr>\n",
       "      <th>min</th>\n",
       "      <td>0.00000</td>\n",
       "      <td>9.616265e+08</td>\n",
       "      <td>0.0</td>\n",
       "      <td>0.0</td>\n",
       "      <td>0.0</td>\n",
       "      <td>0.000000</td>\n",
       "    </tr>\n",
       "    <tr>\n",
       "      <th>25%</th>\n",
       "      <td>5779.00000</td>\n",
       "      <td>9.820278e+08</td>\n",
       "      <td>0.0</td>\n",
       "      <td>0.0</td>\n",
       "      <td>0.0</td>\n",
       "      <td>0.000000</td>\n",
       "    </tr>\n",
       "    <tr>\n",
       "      <th>50%</th>\n",
       "      <td>11536.00000</td>\n",
       "      <td>1.097832e+09</td>\n",
       "      <td>0.0</td>\n",
       "      <td>0.0</td>\n",
       "      <td>0.0</td>\n",
       "      <td>0.000000</td>\n",
       "    </tr>\n",
       "    <tr>\n",
       "      <th>75%</th>\n",
       "      <td>17343.00000</td>\n",
       "      <td>1.099048e+09</td>\n",
       "      <td>0.0</td>\n",
       "      <td>0.0</td>\n",
       "      <td>0.0</td>\n",
       "      <td>0.000000</td>\n",
       "    </tr>\n",
       "    <tr>\n",
       "      <th>max</th>\n",
       "      <td>22959.00000</td>\n",
       "      <td>1.118159e+09</td>\n",
       "      <td>0.0</td>\n",
       "      <td>0.0</td>\n",
       "      <td>0.0</td>\n",
       "      <td>1.000000</td>\n",
       "    </tr>\n",
       "  </tbody>\n",
       "</table>\n",
       "</div>"
      ],
      "text/plain": [
       "             index          uuid  num_achievements  num_exercises  num_points  \\\n",
       "count  14125.00000  1.412500e+04           14125.0        14125.0     14125.0   \n",
       "mean   11546.40708  1.044499e+09               0.0            0.0         0.0   \n",
       "std     6657.43332  6.771463e+07               0.0            0.0         0.0   \n",
       "min        0.00000  9.616265e+08               0.0            0.0         0.0   \n",
       "25%     5779.00000  9.820278e+08               0.0            0.0         0.0   \n",
       "50%    11536.00000  1.097832e+09               0.0            0.0         0.0   \n",
       "75%    17343.00000  1.099048e+09               0.0            0.0         0.0   \n",
       "max    22959.00000  1.118159e+09               0.0            0.0         0.0   \n",
       "\n",
       "              Click  \n",
       "count  14125.000000  \n",
       "mean       0.028177  \n",
       "std        0.165484  \n",
       "min        0.000000  \n",
       "25%        0.000000  \n",
       "50%        0.000000  \n",
       "75%        0.000000  \n",
       "max        1.000000  "
      ]
     },
     "execution_count": 16,
     "metadata": {},
     "output_type": "execute_result"
    }
   ],
   "source": [
    "ca.describe()"
   ]
  },
  {
   "cell_type": "code",
   "execution_count": 517,
   "metadata": {},
   "outputs": [
    {
     "data": {
      "text/plain": [
       "1.0    398\n",
       "Name: Click, dtype: int64"
      ]
     },
     "execution_count": 517,
     "metadata": {},
     "output_type": "execute_result"
    }
   ],
   "source": [
    "caclicks = ca[(ca.Click == 1)]\n",
    "caclicks[\"Click\"].value_counts()"
   ]
  },
  {
   "cell_type": "code",
   "execution_count": 516,
   "metadata": {},
   "outputs": [
    {
     "name": "stdout",
     "output_type": "stream",
     "text": [
      "<class 'pandas.core.frame.DataFrame'>\n",
      "Int64Index: 14125 entries, 0 to 16994\n",
      "Data columns (total 9 columns):\n",
      "Index           14125 non-null int64\n",
      "UserID          14125 non-null int64\n",
      "Achievements    14125 non-null int64\n",
      "Exercises       14125 non-null int64\n",
      "Points          14125 non-null int64\n",
      "Click           14125 non-null float64\n",
      "AdName          14125 non-null object\n",
      "Button          14125 non-null object\n",
      "Banner          14125 non-null object\n",
      "dtypes: float64(1), int64(5), object(3)\n",
      "memory usage: 1.1+ MB\n"
     ]
    }
   ],
   "source": [
    "caclicks.info()"
   ]
  },
  {
   "cell_type": "code",
   "execution_count": 518,
   "metadata": {},
   "outputs": [
    {
     "name": "stdout",
     "output_type": "stream",
     "text": [
      "14125\n"
     ]
    }
   ],
   "source": [
    "calen = (len(ca))\n",
    "print calen"
   ]
  },
  {
   "cell_type": "markdown",
   "metadata": {},
   "source": [
    "# Current Ad Click Through Rate"
   ]
  },
  {
   "cell_type": "code",
   "execution_count": 520,
   "metadata": {},
   "outputs": [
    {
     "name": "stdout",
     "output_type": "stream",
     "text": [
      "Click through rate for Current Ad: 2.82%\n"
     ]
    }
   ],
   "source": [
    "cactr= caclicks[\"Click\"].value_counts()/calen\n",
    "print(\"Click through rate for Current Ad: \"+\"{0:.2%}\".format(float(cactr)))\n"
   ]
  },
  {
   "cell_type": "markdown",
   "metadata": {},
   "source": [
    "# AD A STATS AND INFO "
   ]
  },
  {
   "cell_type": "code",
   "execution_count": 337,
   "metadata": {},
   "outputs": [
    {
     "data": {
      "text/html": [
       "<div>\n",
       "<style>\n",
       "    .dataframe thead tr:only-child th {\n",
       "        text-align: right;\n",
       "    }\n",
       "\n",
       "    .dataframe thead th {\n",
       "        text-align: left;\n",
       "    }\n",
       "\n",
       "    .dataframe tbody tr th {\n",
       "        vertical-align: top;\n",
       "    }\n",
       "</style>\n",
       "<table border=\"1\" class=\"dataframe\">\n",
       "  <thead>\n",
       "    <tr style=\"text-align: right;\">\n",
       "      <th></th>\n",
       "      <th>index</th>\n",
       "      <th>uuid</th>\n",
       "      <th>num_achievements</th>\n",
       "      <th>num_exercises</th>\n",
       "      <th>num_points</th>\n",
       "      <th>Click</th>\n",
       "      <th>Group</th>\n",
       "      <th>Button</th>\n",
       "      <th>Banner</th>\n",
       "    </tr>\n",
       "  </thead>\n",
       "  <tbody>\n",
       "    <tr>\n",
       "      <th>0</th>\n",
       "      <td>8</td>\n",
       "      <td>981949649</td>\n",
       "      <td>0</td>\n",
       "      <td>0</td>\n",
       "      <td>0</td>\n",
       "      <td>0.0</td>\n",
       "      <td>A</td>\n",
       "      <td>No</td>\n",
       "      <td>No</td>\n",
       "    </tr>\n",
       "    <tr>\n",
       "      <th>1</th>\n",
       "      <td>15</td>\n",
       "      <td>981972297</td>\n",
       "      <td>0</td>\n",
       "      <td>0</td>\n",
       "      <td>0</td>\n",
       "      <td>0.0</td>\n",
       "      <td>A</td>\n",
       "      <td>No</td>\n",
       "      <td>No</td>\n",
       "    </tr>\n",
       "    <tr>\n",
       "      <th>2</th>\n",
       "      <td>22</td>\n",
       "      <td>981992089</td>\n",
       "      <td>0</td>\n",
       "      <td>0</td>\n",
       "      <td>0</td>\n",
       "      <td>0.0</td>\n",
       "      <td>A</td>\n",
       "      <td>No</td>\n",
       "      <td>No</td>\n",
       "    </tr>\n",
       "    <tr>\n",
       "      <th>3</th>\n",
       "      <td>32</td>\n",
       "      <td>981974489</td>\n",
       "      <td>0</td>\n",
       "      <td>0</td>\n",
       "      <td>0</td>\n",
       "      <td>0.0</td>\n",
       "      <td>A</td>\n",
       "      <td>No</td>\n",
       "      <td>No</td>\n",
       "    </tr>\n",
       "    <tr>\n",
       "      <th>4</th>\n",
       "      <td>38</td>\n",
       "      <td>981983905</td>\n",
       "      <td>0</td>\n",
       "      <td>0</td>\n",
       "      <td>0</td>\n",
       "      <td>0.0</td>\n",
       "      <td>A</td>\n",
       "      <td>No</td>\n",
       "      <td>No</td>\n",
       "    </tr>\n",
       "  </tbody>\n",
       "</table>\n",
       "</div>"
      ],
      "text/plain": [
       "   index       uuid  num_achievements  num_exercises  num_points  Click Group  \\\n",
       "0      8  981949649                 0              0           0    0.0     A   \n",
       "1     15  981972297                 0              0           0    0.0     A   \n",
       "2     22  981992089                 0              0           0    0.0     A   \n",
       "3     32  981974489                 0              0           0    0.0     A   \n",
       "4     38  981983905                 0              0           0    0.0     A   \n",
       "\n",
       "  Button Banner  \n",
       "0     No     No  \n",
       "1     No     No  \n",
       "2     No     No  \n",
       "3     No     No  \n",
       "4     No     No  "
      ]
     },
     "execution_count": 337,
     "metadata": {},
     "output_type": "execute_result"
    }
   ],
   "source": [
    "#***ONLY AD A*** \n",
    "\n",
    "groupa = pd.read_sql_query(\"\"\"\n",
    "    SELECT *\n",
    "    FROM GroupA ada \"\"\", connection)\n",
    "\n",
    "\n",
    "groupa.head()"
   ]
  },
  {
   "cell_type": "code",
   "execution_count": 28,
   "metadata": {},
   "outputs": [
    {
     "data": {
      "text/plain": [
       "(13143, 9)"
      ]
     },
     "execution_count": 28,
     "metadata": {},
     "output_type": "execute_result"
    }
   ],
   "source": [
    "groupa.shape"
   ]
  },
  {
   "cell_type": "code",
   "execution_count": 48,
   "metadata": {},
   "outputs": [
    {
     "data": {
      "text/plain": [
       "0.0    12610\n",
       "1.0      533\n",
       "Name: Click, dtype: int64"
      ]
     },
     "execution_count": 48,
     "metadata": {},
     "output_type": "execute_result"
    }
   ],
   "source": [
    "groupa['Click'].value_counts()"
   ]
  },
  {
   "cell_type": "code",
   "execution_count": 29,
   "metadata": {
    "collapsed": true
   },
   "outputs": [],
   "source": [
    "ada = groupa "
   ]
  },
  {
   "cell_type": "code",
   "execution_count": 30,
   "metadata": {},
   "outputs": [
    {
     "name": "stdout",
     "output_type": "stream",
     "text": [
      "<class 'pandas.core.frame.DataFrame'>\n",
      "RangeIndex: 13143 entries, 0 to 13142\n",
      "Data columns (total 9 columns):\n",
      "index               13143 non-null int64\n",
      "uuid                13143 non-null int64\n",
      "num_achievements    13143 non-null int64\n",
      "num_exercises       13143 non-null int64\n",
      "num_points          13143 non-null int64\n",
      "Click               13143 non-null float64\n",
      "Group               13143 non-null object\n",
      "Button              13143 non-null object\n",
      "Banner              13143 non-null object\n",
      "dtypes: float64(1), int64(5), object(3)\n",
      "memory usage: 924.2+ KB\n"
     ]
    }
   ],
   "source": [
    "ada.info()"
   ]
  },
  {
   "cell_type": "code",
   "execution_count": 31,
   "metadata": {},
   "outputs": [
    {
     "data": {
      "text/plain": [
       "index               0\n",
       "uuid                0\n",
       "num_achievements    0\n",
       "num_exercises       0\n",
       "num_points          0\n",
       "Click               0\n",
       "Group               0\n",
       "Button              0\n",
       "Banner              0\n",
       "dtype: int64"
      ]
     },
     "execution_count": 31,
     "metadata": {},
     "output_type": "execute_result"
    }
   ],
   "source": [
    "ada.isnull().sum()"
   ]
  },
  {
   "cell_type": "code",
   "execution_count": 351,
   "metadata": {},
   "outputs": [
    {
     "data": {
      "text/html": [
       "<div>\n",
       "<style>\n",
       "    .dataframe thead tr:only-child th {\n",
       "        text-align: right;\n",
       "    }\n",
       "\n",
       "    .dataframe thead th {\n",
       "        text-align: left;\n",
       "    }\n",
       "\n",
       "    .dataframe tbody tr th {\n",
       "        vertical-align: top;\n",
       "    }\n",
       "</style>\n",
       "<table border=\"1\" class=\"dataframe\">\n",
       "  <thead>\n",
       "    <tr style=\"text-align: right;\">\n",
       "      <th></th>\n",
       "      <th>index</th>\n",
       "      <th>uuid</th>\n",
       "      <th>num_achievements</th>\n",
       "      <th>num_exercises</th>\n",
       "      <th>num_points</th>\n",
       "      <th>Click</th>\n",
       "    </tr>\n",
       "  </thead>\n",
       "  <tbody>\n",
       "    <tr>\n",
       "      <th>count</th>\n",
       "      <td>13143.000000</td>\n",
       "      <td>1.314300e+04</td>\n",
       "      <td>13143.000000</td>\n",
       "      <td>13143.000000</td>\n",
       "      <td>13143.000000</td>\n",
       "      <td>13143.000000</td>\n",
       "    </tr>\n",
       "    <tr>\n",
       "      <th>mean</th>\n",
       "      <td>39170.239063</td>\n",
       "      <td>1.034984e+09</td>\n",
       "      <td>1.029217</td>\n",
       "      <td>4.082553</td>\n",
       "      <td>4.082553</td>\n",
       "      <td>0.040554</td>\n",
       "    </tr>\n",
       "    <tr>\n",
       "      <th>std</th>\n",
       "      <td>17313.830772</td>\n",
       "      <td>6.657932e+07</td>\n",
       "      <td>0.894903</td>\n",
       "      <td>4.025102</td>\n",
       "      <td>4.025102</td>\n",
       "      <td>0.197262</td>\n",
       "    </tr>\n",
       "    <tr>\n",
       "      <th>min</th>\n",
       "      <td>8.000000</td>\n",
       "      <td>9.616267e+08</td>\n",
       "      <td>0.000000</td>\n",
       "      <td>0.000000</td>\n",
       "      <td>0.000000</td>\n",
       "      <td>0.000000</td>\n",
       "    </tr>\n",
       "    <tr>\n",
       "      <th>25%</th>\n",
       "      <td>25956.500000</td>\n",
       "      <td>9.821693e+08</td>\n",
       "      <td>0.000000</td>\n",
       "      <td>0.000000</td>\n",
       "      <td>0.000000</td>\n",
       "      <td>0.000000</td>\n",
       "    </tr>\n",
       "    <tr>\n",
       "      <th>50%</th>\n",
       "      <td>46357.000000</td>\n",
       "      <td>9.839240e+08</td>\n",
       "      <td>1.000000</td>\n",
       "      <td>2.000000</td>\n",
       "      <td>2.000000</td>\n",
       "      <td>0.000000</td>\n",
       "    </tr>\n",
       "    <tr>\n",
       "      <th>75%</th>\n",
       "      <td>53478.500000</td>\n",
       "      <td>1.099113e+09</td>\n",
       "      <td>2.000000</td>\n",
       "      <td>8.000000</td>\n",
       "      <td>8.000000</td>\n",
       "      <td>0.000000</td>\n",
       "    </tr>\n",
       "    <tr>\n",
       "      <th>max</th>\n",
       "      <td>57592.000000</td>\n",
       "      <td>1.118685e+09</td>\n",
       "      <td>2.000000</td>\n",
       "      <td>18.000000</td>\n",
       "      <td>18.000000</td>\n",
       "      <td>1.000000</td>\n",
       "    </tr>\n",
       "  </tbody>\n",
       "</table>\n",
       "</div>"
      ],
      "text/plain": [
       "              index          uuid  num_achievements  num_exercises  \\\n",
       "count  13143.000000  1.314300e+04      13143.000000   13143.000000   \n",
       "mean   39170.239063  1.034984e+09          1.029217       4.082553   \n",
       "std    17313.830772  6.657932e+07          0.894903       4.025102   \n",
       "min        8.000000  9.616267e+08          0.000000       0.000000   \n",
       "25%    25956.500000  9.821693e+08          0.000000       0.000000   \n",
       "50%    46357.000000  9.839240e+08          1.000000       2.000000   \n",
       "75%    53478.500000  1.099113e+09          2.000000       8.000000   \n",
       "max    57592.000000  1.118685e+09          2.000000      18.000000   \n",
       "\n",
       "         num_points         Click  \n",
       "count  13143.000000  13143.000000  \n",
       "mean       4.082553      0.040554  \n",
       "std        4.025102      0.197262  \n",
       "min        0.000000      0.000000  \n",
       "25%        0.000000      0.000000  \n",
       "50%        2.000000      0.000000  \n",
       "75%        8.000000      0.000000  \n",
       "max       18.000000      1.000000  "
      ]
     },
     "execution_count": 351,
     "metadata": {},
     "output_type": "execute_result"
    }
   ],
   "source": [
    "ada.describe()"
   ]
  },
  {
   "cell_type": "code",
   "execution_count": 463,
   "metadata": {},
   "outputs": [
    {
     "data": {
      "text/plain": [
       "0.0"
      ]
     },
     "execution_count": 463,
     "metadata": {},
     "output_type": "execute_result"
    }
   ],
   "source": [
    "ada.Click.median()"
   ]
  },
  {
   "cell_type": "code",
   "execution_count": 464,
   "metadata": {},
   "outputs": [
    {
     "data": {
      "text/plain": [
       "2.0"
      ]
     },
     "execution_count": 464,
     "metadata": {},
     "output_type": "execute_result"
    }
   ],
   "source": [
    "ada.num_exercises.median()"
   ]
  },
  {
   "cell_type": "code",
   "execution_count": 465,
   "metadata": {},
   "outputs": [
    {
     "data": {
      "text/plain": [
       "1.0"
      ]
     },
     "execution_count": 465,
     "metadata": {},
     "output_type": "execute_result"
    }
   ],
   "source": [
    "ada.num_achievements.median()"
   ]
  },
  {
   "cell_type": "code",
   "execution_count": 466,
   "metadata": {},
   "outputs": [
    {
     "data": {
      "text/plain": [
       "0    0.0\n",
       "dtype: float64"
      ]
     },
     "execution_count": 466,
     "metadata": {},
     "output_type": "execute_result"
    }
   ],
   "source": [
    "ada.Click.mode()"
   ]
  },
  {
   "cell_type": "code",
   "execution_count": 467,
   "metadata": {},
   "outputs": [
    {
     "data": {
      "text/plain": [
       "0    2\n",
       "dtype: int64"
      ]
     },
     "execution_count": 467,
     "metadata": {},
     "output_type": "execute_result"
    }
   ],
   "source": [
    "ada.num_achievements.mode()"
   ]
  },
  {
   "cell_type": "code",
   "execution_count": 468,
   "metadata": {},
   "outputs": [
    {
     "data": {
      "text/plain": [
       "0    0\n",
       "dtype: int64"
      ]
     },
     "execution_count": 468,
     "metadata": {},
     "output_type": "execute_result"
    }
   ],
   "source": [
    "ada.num_exercises.mode()"
   ]
  },
  {
   "cell_type": "code",
   "execution_count": 44,
   "metadata": {},
   "outputs": [
    {
     "data": {
      "text/plain": [
       "1.0    533\n",
       "Name: Click, dtype: int64"
      ]
     },
     "execution_count": 44,
     "metadata": {},
     "output_type": "execute_result"
    }
   ],
   "source": [
    "adaclicks = ada[(ada.Click == 1)]\n",
    "adaclicks['Click'].value_counts()"
   ]
  },
  {
   "cell_type": "code",
   "execution_count": 512,
   "metadata": {},
   "outputs": [
    {
     "name": "stdout",
     "output_type": "stream",
     "text": [
      "<class 'pandas.core.frame.DataFrame'>\n",
      "Int64Index: 533 entries, 150 to 27243\n",
      "Data columns (total 9 columns):\n",
      "Index           533 non-null int64\n",
      "UserID          533 non-null int64\n",
      "Achievements    533 non-null int64\n",
      "Exercises       533 non-null int64\n",
      "Points          533 non-null int64\n",
      "Click           533 non-null float64\n",
      "AdName          533 non-null object\n",
      "Button          533 non-null object\n",
      "Banner          533 non-null object\n",
      "dtypes: float64(1), int64(5), object(3)\n",
      "memory usage: 41.6+ KB\n"
     ]
    }
   ],
   "source": [
    "adalen = (len(ada))\n",
    "print adalen\n"
   ]
  },
  {
   "cell_type": "markdown",
   "metadata": {},
   "source": [
    "# Click Through Rate for Ad A"
   ]
  },
  {
   "cell_type": "code",
   "execution_count": 532,
   "metadata": {},
   "outputs": [
    {
     "name": "stdout",
     "output_type": "stream",
     "text": [
      "Click through rate for Ad A: 4.1%\n"
     ]
    }
   ],
   "source": [
    "adactr= adaclicks[\"Click\"].value_counts()/adalen\n",
    "print(\"Click through rate for Ad A: \"+\"{0:.1%}\".format(float(adactr)))"
   ]
  },
  {
   "cell_type": "markdown",
   "metadata": {},
   "source": [
    "# Percent Increase from Current Ad to Ad A"
   ]
  },
  {
   "cell_type": "code",
   "execution_count": 531,
   "metadata": {},
   "outputs": [
    {
     "name": "stdout",
     "output_type": "stream",
     "text": [
      "Percentage increase in clicks from Current Ad to Ad A: 33.9%\n"
     ]
    }
   ],
   "source": [
    "increase = (adaclicks[\"Click\"].value_counts() - caclicks[\"Click\"].value_counts())\n",
    "ctrincrease = ((increase/caclicks[\"Click\"].value_counts()))\n",
    "print (\"Percentage increase in clicks from Current Ad to Ad A: \"+\"{:.1%}\".format(float(ctrincrease)))"
   ]
  },
  {
   "cell_type": "markdown",
   "metadata": {},
   "source": [
    "# ALL ADS STATS AND INFO"
   ]
  },
  {
   "cell_type": "code",
   "execution_count": 340,
   "metadata": {},
   "outputs": [
    {
     "data": {
      "text/html": [
       "<div>\n",
       "<style>\n",
       "    .dataframe thead tr:only-child th {\n",
       "        text-align: right;\n",
       "    }\n",
       "\n",
       "    .dataframe thead th {\n",
       "        text-align: left;\n",
       "    }\n",
       "\n",
       "    .dataframe tbody tr th {\n",
       "        vertical-align: top;\n",
       "    }\n",
       "</style>\n",
       "<table border=\"1\" class=\"dataframe\">\n",
       "  <thead>\n",
       "    <tr style=\"text-align: right;\">\n",
       "      <th></th>\n",
       "      <th>Index</th>\n",
       "      <th>UserID</th>\n",
       "      <th>Achievements</th>\n",
       "      <th>Exercises</th>\n",
       "      <th>Points</th>\n",
       "      <th>Click</th>\n",
       "      <th>AdName</th>\n",
       "      <th>Button</th>\n",
       "      <th>Banner</th>\n",
       "    </tr>\n",
       "  </thead>\n",
       "  <tbody>\n",
       "    <tr>\n",
       "      <th>0</th>\n",
       "      <td>0</td>\n",
       "      <td>981943945</td>\n",
       "      <td>0</td>\n",
       "      <td>0</td>\n",
       "      <td>0</td>\n",
       "      <td>1.0</td>\n",
       "      <td>CurrentAd</td>\n",
       "      <td>No</td>\n",
       "      <td>Yes</td>\n",
       "    </tr>\n",
       "    <tr>\n",
       "      <th>1</th>\n",
       "      <td>2</td>\n",
       "      <td>981944745</td>\n",
       "      <td>0</td>\n",
       "      <td>0</td>\n",
       "      <td>0</td>\n",
       "      <td>0.0</td>\n",
       "      <td>CurrentAd</td>\n",
       "      <td>No</td>\n",
       "      <td>Yes</td>\n",
       "    </tr>\n",
       "    <tr>\n",
       "      <th>2</th>\n",
       "      <td>3</td>\n",
       "      <td>981944801</td>\n",
       "      <td>0</td>\n",
       "      <td>0</td>\n",
       "      <td>0</td>\n",
       "      <td>0.0</td>\n",
       "      <td>CurrentAd</td>\n",
       "      <td>No</td>\n",
       "      <td>Yes</td>\n",
       "    </tr>\n",
       "    <tr>\n",
       "      <th>3</th>\n",
       "      <td>4</td>\n",
       "      <td>981944857</td>\n",
       "      <td>0</td>\n",
       "      <td>0</td>\n",
       "      <td>0</td>\n",
       "      <td>0.0</td>\n",
       "      <td>CurrentAd</td>\n",
       "      <td>No</td>\n",
       "      <td>Yes</td>\n",
       "    </tr>\n",
       "    <tr>\n",
       "      <th>4</th>\n",
       "      <td>6</td>\n",
       "      <td>981960025</td>\n",
       "      <td>0</td>\n",
       "      <td>0</td>\n",
       "      <td>0</td>\n",
       "      <td>0.0</td>\n",
       "      <td>CurrentAd</td>\n",
       "      <td>No</td>\n",
       "      <td>Yes</td>\n",
       "    </tr>\n",
       "  </tbody>\n",
       "</table>\n",
       "</div>"
      ],
      "text/plain": [
       "   Index     UserID  Achievements  Exercises  Points  Click     AdName Button  \\\n",
       "0      0  981943945             0          0       0    1.0  CurrentAd     No   \n",
       "1      2  981944745             0          0       0    0.0  CurrentAd     No   \n",
       "2      3  981944801             0          0       0    0.0  CurrentAd     No   \n",
       "3      4  981944857             0          0       0    0.0  CurrentAd     No   \n",
       "4      6  981960025             0          0       0    0.0  CurrentAd     No   \n",
       "\n",
       "  Banner  \n",
       "0    Yes  \n",
       "1    Yes  \n",
       "2    Yes  \n",
       "3    Yes  \n",
       "4    Yes  "
      ]
     },
     "execution_count": 340,
     "metadata": {},
     "output_type": "execute_result"
    }
   ],
   "source": [
    "allads = pd.read_sql_query(\"\"\"\n",
    "    SELECT *\n",
    "    FROM CurrentAd ca\n",
    "    UNION\n",
    "    SELECT *\n",
    "    FROM GroupA\"\"\", connection)\n",
    "allads.columns =[\"Index\", \"UserID\", \"Achievements\", \"Exercises\", \"Points\", \"Click\", \"AdName\", \"Button\", \"Banner\"]\n",
    "allads.head()"
   ]
  },
  {
   "cell_type": "code",
   "execution_count": 39,
   "metadata": {},
   "outputs": [
    {
     "data": {
      "text/plain": [
       "(27268, 9)"
      ]
     },
     "execution_count": 39,
     "metadata": {},
     "output_type": "execute_result"
    }
   ],
   "source": [
    "allads.shape"
   ]
  },
  {
   "cell_type": "code",
   "execution_count": 341,
   "metadata": {},
   "outputs": [
    {
     "data": {
      "text/html": [
       "<div>\n",
       "<style>\n",
       "    .dataframe thead tr:only-child th {\n",
       "        text-align: right;\n",
       "    }\n",
       "\n",
       "    .dataframe thead th {\n",
       "        text-align: left;\n",
       "    }\n",
       "\n",
       "    .dataframe tbody tr th {\n",
       "        vertical-align: top;\n",
       "    }\n",
       "</style>\n",
       "<table border=\"1\" class=\"dataframe\">\n",
       "  <thead>\n",
       "    <tr style=\"text-align: right;\">\n",
       "      <th></th>\n",
       "      <th>Index</th>\n",
       "      <th>UserID</th>\n",
       "      <th>Achievements</th>\n",
       "      <th>Exercises</th>\n",
       "      <th>Points</th>\n",
       "      <th>Click</th>\n",
       "    </tr>\n",
       "  </thead>\n",
       "  <tbody>\n",
       "    <tr>\n",
       "      <th>count</th>\n",
       "      <td>27268.000000</td>\n",
       "      <td>2.726800e+04</td>\n",
       "      <td>27268.000000</td>\n",
       "      <td>27268.000000</td>\n",
       "      <td>27268.000000</td>\n",
       "      <td>27268.000000</td>\n",
       "    </tr>\n",
       "    <tr>\n",
       "      <th>mean</th>\n",
       "      <td>24860.915799</td>\n",
       "      <td>1.039913e+09</td>\n",
       "      <td>0.496076</td>\n",
       "      <td>1.967764</td>\n",
       "      <td>1.967764</td>\n",
       "      <td>0.034143</td>\n",
       "    </tr>\n",
       "    <tr>\n",
       "      <th>std</th>\n",
       "      <td>18920.028937</td>\n",
       "      <td>6.733664e+07</td>\n",
       "      <td>0.806522</td>\n",
       "      <td>3.459804</td>\n",
       "      <td>3.459804</td>\n",
       "      <td>0.181599</td>\n",
       "    </tr>\n",
       "    <tr>\n",
       "      <th>min</th>\n",
       "      <td>0.000000</td>\n",
       "      <td>9.616265e+08</td>\n",
       "      <td>0.000000</td>\n",
       "      <td>0.000000</td>\n",
       "      <td>0.000000</td>\n",
       "      <td>0.000000</td>\n",
       "    </tr>\n",
       "    <tr>\n",
       "      <th>25%</th>\n",
       "      <td>9149.750000</td>\n",
       "      <td>9.820734e+08</td>\n",
       "      <td>0.000000</td>\n",
       "      <td>0.000000</td>\n",
       "      <td>0.000000</td>\n",
       "      <td>0.000000</td>\n",
       "    </tr>\n",
       "    <tr>\n",
       "      <th>50%</th>\n",
       "      <td>18454.500000</td>\n",
       "      <td>9.846204e+08</td>\n",
       "      <td>0.000000</td>\n",
       "      <td>0.000000</td>\n",
       "      <td>0.000000</td>\n",
       "      <td>0.000000</td>\n",
       "    </tr>\n",
       "    <tr>\n",
       "      <th>75%</th>\n",
       "      <td>45369.000000</td>\n",
       "      <td>1.099100e+09</td>\n",
       "      <td>1.000000</td>\n",
       "      <td>2.000000</td>\n",
       "      <td>2.000000</td>\n",
       "      <td>0.000000</td>\n",
       "    </tr>\n",
       "    <tr>\n",
       "      <th>max</th>\n",
       "      <td>57592.000000</td>\n",
       "      <td>1.118685e+09</td>\n",
       "      <td>2.000000</td>\n",
       "      <td>18.000000</td>\n",
       "      <td>18.000000</td>\n",
       "      <td>1.000000</td>\n",
       "    </tr>\n",
       "  </tbody>\n",
       "</table>\n",
       "</div>"
      ],
      "text/plain": [
       "              Index        UserID  Achievements     Exercises        Points  \\\n",
       "count  27268.000000  2.726800e+04  27268.000000  27268.000000  27268.000000   \n",
       "mean   24860.915799  1.039913e+09      0.496076      1.967764      1.967764   \n",
       "std    18920.028937  6.733664e+07      0.806522      3.459804      3.459804   \n",
       "min        0.000000  9.616265e+08      0.000000      0.000000      0.000000   \n",
       "25%     9149.750000  9.820734e+08      0.000000      0.000000      0.000000   \n",
       "50%    18454.500000  9.846204e+08      0.000000      0.000000      0.000000   \n",
       "75%    45369.000000  1.099100e+09      1.000000      2.000000      2.000000   \n",
       "max    57592.000000  1.118685e+09      2.000000     18.000000     18.000000   \n",
       "\n",
       "              Click  \n",
       "count  27268.000000  \n",
       "mean       0.034143  \n",
       "std        0.181599  \n",
       "min        0.000000  \n",
       "25%        0.000000  \n",
       "50%        0.000000  \n",
       "75%        0.000000  \n",
       "max        1.000000  "
      ]
     },
     "execution_count": 341,
     "metadata": {},
     "output_type": "execute_result"
    }
   ],
   "source": [
    "allads.describe()"
   ]
  },
  {
   "cell_type": "code",
   "execution_count": 343,
   "metadata": {},
   "outputs": [
    {
     "data": {
      "text/html": [
       "<div>\n",
       "<style>\n",
       "    .dataframe thead tr:only-child th {\n",
       "        text-align: right;\n",
       "    }\n",
       "\n",
       "    .dataframe thead th {\n",
       "        text-align: left;\n",
       "    }\n",
       "\n",
       "    .dataframe tbody tr th {\n",
       "        vertical-align: top;\n",
       "    }\n",
       "</style>\n",
       "<table border=\"1\" class=\"dataframe\">\n",
       "  <thead>\n",
       "    <tr style=\"text-align: right;\">\n",
       "      <th></th>\n",
       "      <th>Index</th>\n",
       "      <th>UserID</th>\n",
       "      <th>Achievements</th>\n",
       "      <th>Exercises</th>\n",
       "      <th>Points</th>\n",
       "      <th>Click</th>\n",
       "    </tr>\n",
       "  </thead>\n",
       "  <tbody>\n",
       "    <tr>\n",
       "      <th>count</th>\n",
       "      <td>27267.000000</td>\n",
       "      <td>2.726700e+04</td>\n",
       "      <td>27267.000000</td>\n",
       "      <td>27267.000000</td>\n",
       "      <td>27267.000000</td>\n",
       "      <td>27267.000000</td>\n",
       "    </tr>\n",
       "    <tr>\n",
       "      <th>mean</th>\n",
       "      <td>24859.980783</td>\n",
       "      <td>1.039916e+09</td>\n",
       "      <td>0.496058</td>\n",
       "      <td>1.967176</td>\n",
       "      <td>1.967176</td>\n",
       "      <td>0.034144</td>\n",
       "    </tr>\n",
       "    <tr>\n",
       "      <th>std</th>\n",
       "      <td>18919.745866</td>\n",
       "      <td>6.733624e+07</td>\n",
       "      <td>0.806531</td>\n",
       "      <td>3.458505</td>\n",
       "      <td>3.458505</td>\n",
       "      <td>0.181602</td>\n",
       "    </tr>\n",
       "    <tr>\n",
       "      <th>min</th>\n",
       "      <td>0.000000</td>\n",
       "      <td>9.616265e+08</td>\n",
       "      <td>0.000000</td>\n",
       "      <td>0.000000</td>\n",
       "      <td>0.000000</td>\n",
       "      <td>0.000000</td>\n",
       "    </tr>\n",
       "    <tr>\n",
       "      <th>25%</th>\n",
       "      <td>9149.500000</td>\n",
       "      <td>9.820737e+08</td>\n",
       "      <td>0.000000</td>\n",
       "      <td>0.000000</td>\n",
       "      <td>0.000000</td>\n",
       "      <td>0.000000</td>\n",
       "    </tr>\n",
       "    <tr>\n",
       "      <th>50%</th>\n",
       "      <td>18454.000000</td>\n",
       "      <td>9.846209e+08</td>\n",
       "      <td>0.000000</td>\n",
       "      <td>0.000000</td>\n",
       "      <td>0.000000</td>\n",
       "      <td>0.000000</td>\n",
       "    </tr>\n",
       "    <tr>\n",
       "      <th>75%</th>\n",
       "      <td>45367.000000</td>\n",
       "      <td>1.099100e+09</td>\n",
       "      <td>1.000000</td>\n",
       "      <td>2.000000</td>\n",
       "      <td>2.000000</td>\n",
       "      <td>0.000000</td>\n",
       "    </tr>\n",
       "    <tr>\n",
       "      <th>max</th>\n",
       "      <td>57592.000000</td>\n",
       "      <td>1.118685e+09</td>\n",
       "      <td>2.000000</td>\n",
       "      <td>9.000000</td>\n",
       "      <td>9.000000</td>\n",
       "      <td>1.000000</td>\n",
       "    </tr>\n",
       "  </tbody>\n",
       "</table>\n",
       "</div>"
      ],
      "text/plain": [
       "              Index        UserID  Achievements     Exercises        Points  \\\n",
       "count  27267.000000  2.726700e+04  27267.000000  27267.000000  27267.000000   \n",
       "mean   24859.980783  1.039916e+09      0.496058      1.967176      1.967176   \n",
       "std    18919.745866  6.733624e+07      0.806531      3.458505      3.458505   \n",
       "min        0.000000  9.616265e+08      0.000000      0.000000      0.000000   \n",
       "25%     9149.500000  9.820737e+08      0.000000      0.000000      0.000000   \n",
       "50%    18454.000000  9.846209e+08      0.000000      0.000000      0.000000   \n",
       "75%    45367.000000  1.099100e+09      1.000000      2.000000      2.000000   \n",
       "max    57592.000000  1.118685e+09      2.000000      9.000000      9.000000   \n",
       "\n",
       "              Click  \n",
       "count  27267.000000  \n",
       "mean       0.034144  \n",
       "std        0.181602  \n",
       "min        0.000000  \n",
       "25%        0.000000  \n",
       "50%        0.000000  \n",
       "75%        0.000000  \n",
       "max        1.000000  "
      ]
     },
     "execution_count": 343,
     "metadata": {},
     "output_type": "execute_result"
    }
   ],
   "source": [
    "allads = allads[np.abs(allads.Exercises-allads.Exercises.mean())<=(3*allads.Exercises.std())]\n",
    "allads.describe()"
   ]
  },
  {
   "cell_type": "code",
   "execution_count": 352,
   "metadata": {},
   "outputs": [
    {
     "name": "stdout",
     "output_type": "stream",
     "text": [
      "<class 'pandas.core.frame.DataFrame'>\n",
      "Int64Index: 27267 entries, 0 to 27267\n",
      "Data columns (total 9 columns):\n",
      "Index           27267 non-null int64\n",
      "UserID          27267 non-null int64\n",
      "Achievements    27267 non-null int64\n",
      "Exercises       27267 non-null int64\n",
      "Points          27267 non-null int64\n",
      "Click           27267 non-null float64\n",
      "AdName          27267 non-null object\n",
      "Button          27267 non-null object\n",
      "Banner          27267 non-null object\n",
      "dtypes: float64(1), int64(5), object(3)\n",
      "memory usage: 2.1+ MB\n"
     ]
    }
   ],
   "source": [
    "allads.info()"
   ]
  },
  {
   "cell_type": "code",
   "execution_count": 355,
   "metadata": {},
   "outputs": [
    {
     "data": {
      "text/plain": [
       "0.0    13727\n",
       "1.0      398\n",
       "Name: Click, dtype: int64"
      ]
     },
     "execution_count": 355,
     "metadata": {},
     "output_type": "execute_result"
    }
   ],
   "source": [
    "caclicks = allads[(allads.Click >= 0) & (allads.AdName == 'CurrentAd')]\n",
    "caclicks['Click'].value_counts()"
   ]
  },
  {
   "cell_type": "code",
   "execution_count": 356,
   "metadata": {},
   "outputs": [
    {
     "data": {
      "text/html": [
       "<div>\n",
       "<style>\n",
       "    .dataframe thead tr:only-child th {\n",
       "        text-align: right;\n",
       "    }\n",
       "\n",
       "    .dataframe thead th {\n",
       "        text-align: left;\n",
       "    }\n",
       "\n",
       "    .dataframe tbody tr th {\n",
       "        vertical-align: top;\n",
       "    }\n",
       "</style>\n",
       "<table border=\"1\" class=\"dataframe\">\n",
       "  <thead>\n",
       "    <tr style=\"text-align: right;\">\n",
       "      <th></th>\n",
       "      <th>Index</th>\n",
       "      <th>UserID</th>\n",
       "      <th>Achievements</th>\n",
       "      <th>Exercises</th>\n",
       "      <th>Points</th>\n",
       "      <th>Click</th>\n",
       "      <th>AdName</th>\n",
       "      <th>Button</th>\n",
       "      <th>Banner</th>\n",
       "    </tr>\n",
       "  </thead>\n",
       "  <tbody>\n",
       "    <tr>\n",
       "      <th>0</th>\n",
       "      <td>0</td>\n",
       "      <td>981943945</td>\n",
       "      <td>0</td>\n",
       "      <td>0</td>\n",
       "      <td>0</td>\n",
       "      <td>1.0</td>\n",
       "      <td>CurrentAd</td>\n",
       "      <td>No</td>\n",
       "      <td>Yes</td>\n",
       "    </tr>\n",
       "    <tr>\n",
       "      <th>1</th>\n",
       "      <td>2</td>\n",
       "      <td>981944745</td>\n",
       "      <td>0</td>\n",
       "      <td>0</td>\n",
       "      <td>0</td>\n",
       "      <td>0.0</td>\n",
       "      <td>CurrentAd</td>\n",
       "      <td>No</td>\n",
       "      <td>Yes</td>\n",
       "    </tr>\n",
       "    <tr>\n",
       "      <th>2</th>\n",
       "      <td>3</td>\n",
       "      <td>981944801</td>\n",
       "      <td>0</td>\n",
       "      <td>0</td>\n",
       "      <td>0</td>\n",
       "      <td>0.0</td>\n",
       "      <td>CurrentAd</td>\n",
       "      <td>No</td>\n",
       "      <td>Yes</td>\n",
       "    </tr>\n",
       "    <tr>\n",
       "      <th>3</th>\n",
       "      <td>4</td>\n",
       "      <td>981944857</td>\n",
       "      <td>0</td>\n",
       "      <td>0</td>\n",
       "      <td>0</td>\n",
       "      <td>0.0</td>\n",
       "      <td>CurrentAd</td>\n",
       "      <td>No</td>\n",
       "      <td>Yes</td>\n",
       "    </tr>\n",
       "    <tr>\n",
       "      <th>4</th>\n",
       "      <td>6</td>\n",
       "      <td>981960025</td>\n",
       "      <td>0</td>\n",
       "      <td>0</td>\n",
       "      <td>0</td>\n",
       "      <td>0.0</td>\n",
       "      <td>CurrentAd</td>\n",
       "      <td>No</td>\n",
       "      <td>Yes</td>\n",
       "    </tr>\n",
       "  </tbody>\n",
       "</table>\n",
       "</div>"
      ],
      "text/plain": [
       "   Index     UserID  Achievements  Exercises  Points  Click     AdName Button  \\\n",
       "0      0  981943945             0          0       0    1.0  CurrentAd     No   \n",
       "1      2  981944745             0          0       0    0.0  CurrentAd     No   \n",
       "2      3  981944801             0          0       0    0.0  CurrentAd     No   \n",
       "3      4  981944857             0          0       0    0.0  CurrentAd     No   \n",
       "4      6  981960025             0          0       0    0.0  CurrentAd     No   \n",
       "\n",
       "  Banner  \n",
       "0    Yes  \n",
       "1    Yes  \n",
       "2    Yes  \n",
       "3    Yes  \n",
       "4    Yes  "
      ]
     },
     "execution_count": 356,
     "metadata": {},
     "output_type": "execute_result"
    }
   ],
   "source": [
    "caclicks.head()"
   ]
  },
  {
   "cell_type": "code",
   "execution_count": 357,
   "metadata": {},
   "outputs": [
    {
     "data": {
      "text/plain": [
       "Series([], Name: Achievements, dtype: int64)"
      ]
     },
     "execution_count": 357,
     "metadata": {},
     "output_type": "execute_result"
    }
   ],
   "source": [
    "caa = allads[(allads.Achievements > 0) & (allads.AdName == 'CurrentAd')]\n",
    "caa['Achievements'].value_counts()"
   ]
  },
  {
   "cell_type": "code",
   "execution_count": 358,
   "metadata": {},
   "outputs": [
    {
     "data": {
      "text/plain": [
       "Series([], Name: Exercises, dtype: int64)"
      ]
     },
     "execution_count": 358,
     "metadata": {},
     "output_type": "execute_result"
    }
   ],
   "source": [
    "cae = allads[(allads.Exercises > 0) & (allads.AdName == 'CurrentAd')]\n",
    "cae['Exercises'].value_counts()"
   ]
  },
  {
   "cell_type": "code",
   "execution_count": 359,
   "metadata": {},
   "outputs": [
    {
     "data": {
      "text/plain": [
       "1.0    533\n",
       "Name: Click, dtype: int64"
      ]
     },
     "execution_count": 359,
     "metadata": {},
     "output_type": "execute_result"
    }
   ],
   "source": [
    "adaclicks = allads[(allads.Click >0) & (allads.AdName == 'A')]\n",
    "adaclicks['Click'].value_counts()"
   ]
  },
  {
   "cell_type": "code",
   "execution_count": 360,
   "metadata": {},
   "outputs": [
    {
     "data": {
      "text/plain": [
       "2    5460\n",
       "1    2606\n",
       "Name: Achievements, dtype: int64"
      ]
     },
     "execution_count": 360,
     "metadata": {},
     "output_type": "execute_result"
    }
   ],
   "source": [
    "justa = allads\n",
    "adaa = allads[(allads.Achievements >0) & (allads.AdName == 'A')]\n",
    "adaa['Achievements'].value_counts()"
   ]
  },
  {
   "cell_type": "code",
   "execution_count": 361,
   "metadata": {},
   "outputs": [
    {
     "data": {
      "text/plain": [
       "9    3270\n",
       "8    2050\n",
       "1     816\n",
       "2     431\n",
       "4     304\n",
       "7     245\n",
       "6     238\n",
       "5     229\n",
       "3     209\n",
       "Name: Exercises, dtype: int64"
      ]
     },
     "execution_count": 361,
     "metadata": {},
     "output_type": "execute_result"
    }
   ],
   "source": [
    "adae = allads[(allads.Exercises >0)]\n",
    "adae['Exercises'].value_counts()"
   ]
  },
  {
   "cell_type": "code",
   "execution_count": 362,
   "metadata": {},
   "outputs": [
    {
     "data": {
      "text/plain": [
       "0.0    26336\n",
       "1.0      931\n",
       "Name: Click, dtype: int64"
      ]
     },
     "execution_count": 362,
     "metadata": {},
     "output_type": "execute_result"
    }
   ],
   "source": [
    "totalclicks = allads[(allads.Click >=0)]\n",
    "totalclicks['Click'].value_counts()"
   ]
  },
  {
   "cell_type": "code",
   "execution_count": 364,
   "metadata": {},
   "outputs": [
    {
     "data": {
      "text/plain": [
       "0    19201\n",
       "2     5460\n",
       "1     2606\n",
       "Name: Achievements, dtype: int64"
      ]
     },
     "execution_count": 364,
     "metadata": {},
     "output_type": "execute_result"
    }
   ],
   "source": [
    "totalach = allads[(allads.Achievements >=0)]\n",
    "totalach['Achievements'].value_counts()\n",
    "            "
   ]
  },
  {
   "cell_type": "code",
   "execution_count": 347,
   "metadata": {},
   "outputs": [
    {
     "data": {
      "text/plain": [
       "0    19475\n",
       "9     3270\n",
       "8     2050\n",
       "1      816\n",
       "2      431\n",
       "4      304\n",
       "7      245\n",
       "6      238\n",
       "5      229\n",
       "3      209\n",
       "Name: Exercises, dtype: int64"
      ]
     },
     "execution_count": 347,
     "metadata": {},
     "output_type": "execute_result"
    }
   ],
   "source": [
    "totalexe = allads[(allads.Exercises >=0)]\n",
    "totalexe['Exercises'].value_counts()"
   ]
  },
  {
   "cell_type": "code",
   "execution_count": 111,
   "metadata": {},
   "outputs": [
    {
     "name": "stdout",
     "output_type": "stream",
     "text": [
      "Ttest_indResult(statistic=5.6279571529326091, pvalue=1.8414580793526586e-08)\n"
     ]
    }
   ],
   "source": [
    "ttest_value = sp.stats.ttest_ind(adaclicks[\"Click\"], caclicks[\"Click\"])\n",
    "print ttest_value"
   ]
  },
  {
   "cell_type": "markdown",
   "metadata": {},
   "source": [
    "# CHARTS FOR CLICKS"
   ]
  },
  {
   "cell_type": "code",
   "execution_count": 444,
   "metadata": {},
   "outputs": [
    {
     "data": {
      "image/png": "iVBORw0KGgoAAAANSUhEUgAAAYkAAAEPCAYAAAC3NDh4AAAABHNCSVQICAgIfAhkiAAAAAlwSFlz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\nRMSUQkJEREwpJERExNT/B+0EVup4FEonAAAAAElFTkSuQmCC\n",
      "text/plain": [
       "<matplotlib.figure.Figure at 0x22bd8208>"
      ]
     },
     "metadata": {},
     "output_type": "display_data"
    }
   ],
   "source": [
    "sns.set_style(\"whitegrid\")\n",
    "sns.countplot(x=\"Exercises\",hue=\"Click\", data=allads, palette=\"GnBu\")\n",
    "plt.ylabel(\"Count\")\n",
    "plt.title(\"Count of Clicks by Exercises for All Ads\");"
   ]
  },
  {
   "cell_type": "code",
   "execution_count": 445,
   "metadata": {},
   "outputs": [
    {
     "data": {
      "image/png": "iVBORw0KGgoAAAANSUhEUgAAAYkAAAEPCAYAAAC3NDh4AAAABHNCSVQICAgIfAhkiAAAAAlwSFlz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\nJERExJJCQkRELP1/PWE/Lt2CRJ8AAAAASUVORK5CYII=\n",
      "text/plain": [
       "<matplotlib.figure.Figure at 0x22970d30>"
      ]
     },
     "metadata": {},
     "output_type": "display_data"
    }
   ],
   "source": [
    "sns.set_style(\"whitegrid\")\n",
    "sns.countplot(x=\"Achievements\",hue=\"Click\",data=allads,palette=\"GnBu\")\n",
    "plt.ylabel(\"Count\")\n",
    "plt.title(\"Count of Clicks by Achievements for All Ads\");"
   ]
  },
  {
   "cell_type": "code",
   "execution_count": 434,
   "metadata": {},
   "outputs": [
    {
     "data": {
      "image/png": "iVBORw0KGgoAAAANSUhEUgAAAYkAAAEPCAYAAAC3NDh4AAAABHNCSVQICAgIfAhkiAAAAAlwSFlz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\niANaTfzLAAAAAElFTkSuQmCC\n",
      "text/plain": [
       "<matplotlib.figure.Figure at 0x1d0660f0>"
      ]
     },
     "metadata": {},
     "output_type": "display_data"
    }
   ],
   "source": [
    "sns.set_style(\"whitegrid\")\n",
    "sns.countplot(x=\"AdName\",hue=\"Click\",data=allads,palette=\"GnBu\")\n",
    "plt.ylabel(\"Count\")\n",
    "plt.title(\"Count of Clicks for Each Ad\");"
   ]
  },
  {
   "cell_type": "code",
   "execution_count": 429,
   "metadata": {},
   "outputs": [
    {
     "data": {
      "image/png": "iVBORw0KGgoAAAANSUhEUgAABA4AAAHbCAYAAABLFdh7AAAABHNCSVQICAgIfAhkiAAAAAlwSFlz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\n",
      "text/plain": [
       "<matplotlib.figure.Figure at 0x21082f60>"
      ]
     },
     "metadata": {},
     "output_type": "display_data"
    }
   ],
   "source": [
    "colors = [\"steelblue\", \"mediumseagreen\"]\n",
    "\n",
    "f,ax=plt.subplots(1,2,figsize=(18,8))\n",
    "allads['Click'].value_counts().plot.pie(explode=[0,0.1],autopct='%1.1f%%',ax=ax[0],colors=colors,shadow=False)\n",
    "plt.title(\"Total Clicks for All Ads\");"
   ]
  },
  {
   "cell_type": "markdown",
   "metadata": {},
   "source": [
    "# CHARTS FOR  ACHIEVEMENTS"
   ]
  },
  {
   "cell_type": "code",
   "execution_count": 454,
   "metadata": {},
   "outputs": [
    {
     "data": {
      "image/png": "iVBORw0KGgoAAAANSUhEUgAAAW4AAAECCAYAAADelD2uAAAABHNCSVQICAgIfAhkiAAAAAlwSFlz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\n",
      "text/plain": [
       "<matplotlib.figure.Figure at 0x22bdcc18>"
      ]
     },
     "metadata": {},
     "output_type": "display_data"
    }
   ],
   "source": [
    "sns.set_style(\"whitegrid\")\n",
    "sns.kdeplot(totalach.Achievements, shade=True,color=\"mediumseagreen\")\n",
    "plt.title(\"Achievement Probability\");\n",
    
   ]
  },
  {
   "cell_type": "code",
   "execution_count": 446,
   "metadata": {},
   "outputs": [
    {
     "data": {
      "image/png": "iVBORw0KGgoAAAANSUhEUgAAAYkAAAEPCAYAAAC3NDh4AAAABHNCSVQICAgIfAhkiAAAAAlwSFlz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\n+ccAAAAASUVORK5CYII=\n",
      "text/plain": [
       "<matplotlib.figure.Figure at 0x224e1358>"
      ]
     },
     "metadata": {},
     "output_type": "display_data"
    }
   ],
   "source": [
    "sns.set_style(\"whitegrid\")\n",
    "sns.countplot(x=\"Achievements\", data=allads, palette=\"GnBu\")\n",
    "plt.ylabel(\"Count\")\n",
    "plt.title(\"Count of Achievements for All Ads\");"
   ]
  },
  {
   "cell_type": "code",
   "execution_count": 441,
   "metadata": {},
   "outputs": [
    {
     "data": {
      "image/png": "iVBORw0KGgoAAAANSUhEUgAAAYkAAAEPCAYAAAC3NDh4AAAABHNCSVQICAgIfAhkiAAAAAlwSFlz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\niIhI0v8DJSSUy9ALDKQAAAAASUVORK5CYII=\n",
      "text/plain": [
       "<matplotlib.figure.Figure at 0x226022e8>"
      ]
     },
     "metadata": {},
     "output_type": "display_data"
    }
   ],
   "source": [
    "sns.set_style(\"whitegrid\")\n",
    "sns.countplot(x=\"Achievements\",hue=\"AdName\",data=allads,palette=\"GnBu\")\n",
    "plt.ylabel(\"Count\")\n",
    "plt.title(\"Count of Achievements by Ad Name\");"
   ]
  },
  {
   "cell_type": "code",
   "execution_count": 458,
   "metadata": {},
   "outputs": [
    {
     "data": {
      "image/png": "iVBORw0KGgoAAAANSUhEUgAAAYEAAAEPCAYAAACk43iMAAAABHNCSVQICAgIfAhkiAAAAAlwSFlz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\niNgwhYCIiA37/0a3p3MNNXOvAAAAAElFTkSuQmCC\n",
      "text/plain": [
       "<matplotlib.figure.Figure at 0x1fdd99e8>"
      ]
     },
     "metadata": {},
     "output_type": "display_data"
    }
   ],
   "source": [
    "sns.set_style(\"whitegrid\")\n",
    "sns.boxplot(x=\"AdName\",y=\"Achievements\",hue=\"AdName\",data=allads, palette=\"GnBu\")\n",
    "plt.title(\"Distribution of Achievements by Ad\");"
   ]
  },
  {
   "cell_type": "code",
   "execution_count": 449,
   "metadata": {},
   "outputs": [
    {
     "data": {
      "image/png": "iVBORw0KGgoAAAANSUhEUgAAAXsAAAEPCAYAAACjjWTcAAAABHNCSVQICAgIfAhkiAAAAAlwSFlz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\nAABJRU5ErkJggg==\n",
      "text/plain": [
       "<matplotlib.figure.Figure at 0x20f34e48>"
      ]
     },
     "metadata": {},
     "output_type": "display_data"
    }
   ],
   "source": [
    "sns.set_style(\"whitegrid\")\n",
    "sns.barplot(x=\"Click\", y=\"Achievements\", data=allads, palette=\"GnBu\")\n",
    "plt.title(\"Mean Achievement According to Click Value\");"
   ]
  },
  {
   "cell_type": "code",
   "execution_count": 436,
   "metadata": {},
   "outputs": [
    {
     "data": {
      "image/png": "iVBORw0KGgoAAAANSUhEUgAAAXsAAAEPCAYAAACjjWTcAAAABHNCSVQICAgIfAhkiAAAAAlwSFlz\nAAALEgAACxIB0t1+/AAAIABJREFUeJzt3Xd8VGXa//HP1PRe6KEHQgkhQbJShMAiiBQBwQhGsKGr\n7m8tD4JgQXARwbKCK4+6Kz6yKkXFFXBVepMaCIoGCKEHSEL6pMxkZu7fHyOjWQhBYDJJ5nq/Xvta\n5pyZM1cm4zf33OfMfWmUUgohhBANmtbdBQghhHA9CXshhPAAEvZCCOEBJOyFEMIDSNgLIYQHkLAX\nQggPIGHvZmfOnKFDhw7cc889l+ybNm0aHTp0ID8/3+V1pKSkkJKSgt1ud27Lz8+nQ4cON+w5Fi5c\nyKxZs27Y8WqyaNEi+vfvz7PPPnvZ/fn5+cTGxvLiiy9e1fG++OILHn744cvumzFjBt9///011+ou\n999//+96f7nqd/jb4z700EMcPXq02vvu2rWLYcOG3fAaGjoJ+zrAy8uL48ePk5WV5dxWVlbGvn37\narWOtLQ0/vd//7dWn9OVPvvsM1577TVeeeWVavcPHDiQ1atXU1hYeF3P9de//pVevXpd1zHcYfv2\n7e4u4RLvv/8+7dq1c3cZDY6EfR2g0+m47bbbWLVqlXPbd999x8CBA6vcb8OGDYwdO5Y77riD5ORk\n9u/fD8CFCxd49NFHueuuuxgwYAApKSnk5eUBMGDAABYuXMj48eNJSkrib3/7W7V1PProo3zwwQek\npaVdsu+/R1O/vb1w4UKmTJnCvffey2233cb//M//sGLFCiZMmEC/fv1YvXq183GZmZlMmDCBYcOG\nMWXKFEwmEwDZ2dk89thjjB49muHDhzv/6Jw5c4Z+/fpx//33M3jwYHJycqrUdf78eR555BGGDx/O\nsGHD+Mc//gHAE088QXZ2NjNmzODrr7++5Oex2+0sW7aMUaNG0aNHD5YvX15l/7vvvsuQIUMYNmwY\njz32GCUlJQDk5uYyefJkhg8fzh133EFmZibg+GT0zTffALBv3z7Gjx/PqFGjGDNmDBs3bgQgOTmZ\nb7/91vkc8+fPZ/78+QCsWLGC0aNHc8cddzBp0iTncadNm8bMmTMZP348gwcP5tVXX+Xdd98lOTmZ\ngQMHsmPHDgAsFgtz5sxh1KhRjBgxgmnTpjlf2+reAxc/8UycOJFz587xySefMGLECMaMGcP48eOr\nHV1f7neYmppK//79nZ8My8vLufnmmy/51GC1WnnllVcYPHgwQ4cOZcaMGVgslir3GTBgAD/++CPg\n+IN8++23M3z4cO69917OnTtX5b579+6lf//+7Nu3j9LSUv7f//t/jBw5klGjRvHcc89V+aTq8ZRw\nq9OnT6u4uDj1448/qiFDhji3T5w4UR0+fFhFR0ervLw8dfz4cTVs2DCVn5+vlFLqyJEjqnfv3qq0\ntFR9+OGH6t1331VKKWW329WDDz6o/vnPfyqllEpKSlJz585VSil1/vx51bVrV3Xq1KlL6rjnnnvU\nf/7zH7Vs2TI1cOBAVVJSovLy8lR0dLRSSqmdO3eq22+/3Xn/395esGCBSkpKUsXFxaq8vFzddNNN\n6pVXXlFKKbV27Vp16623Ou/Xv39/lZeXp+x2u3r66afVvHnzlFJKpaSkqPXr1yullKqoqFApKSlq\nzZo16vTp0yo6Olrt2bPnsq/fhAkT1AcffKCUUqq4uFgNHz5crV692vmz//DDD5d93KZNm1SvXr1U\nZWWl+vrrr1Xfvn1VZWWlUkqpdevWqVtvvVUVFhYqpZSaM2eOeuedd9Tnn3+uevTooU6cOKGUUmr2\n7Nnq2WefrfL6FRYWqltvvVWdPn3a+ZrfcsstKisrS3322Wdq8uTJSimlrFar6tOnjzp+/LjatWuX\nGj9+vCorK1NKKbV161bne2Hq1Klq7NixymKxqJycHBUdHa0++ugjpZRSH374obrvvvuUUkotXLhQ\nzZ07V9ntdqWUUq+//rp68cUXa3wPXHx/Wa1W1blzZ5Wdna2UUmrlypVq6dKll7xuV/odjhgxQm3a\ntEkppdSKFSvUk08+ecnj/+///k9NmDBBlZeXK5vNpv7yl7+olStXqgULFqiXXnqpyu8tPT1dJSYm\nqrNnzyqllFq8eLF6/vnnne+9HTt2qD/+8Y8qPT3dWfP999/vfH1nzJjh/F0JpfTu/mMjHLp06YJO\np+PgwYOEhYVRWlpKdHS0c//27dvJyclh0qRJzm0ajYZTp04xceJE9u7dy+LFizlx4gQZGRl069bN\neb+LnxAaNWpEWFgYRUVFtGjR4rJ1jBs3jm3btjFz5kymT59+1fX36tWLgIAAACIjI+nbty8AUVFR\nVaZIBg0aRGhoKABjxoxh3rx5lJWVsWfPHoqKinjrrbcAxzTWoUOHiI2NRa/XExcXd8lzXpzq+uCD\nDwAICAhg9OjRbNmyhdtvv/2K9X766acMHz4cvV7PwIEDefHFF/nmm28YNmwYO3bsYMiQIQQFBQG/\njoC/+OILYmNjadmyJQAxMTGsXbu2ynHT0tLIzc3lsccec27TaDQcPnyYoUOHMm/ePHJzc/n5559p\n1aoVrVq1Yvny5Zw8eZLk5GTnY4qLi52vW1JSEgaDgYiICHx9fS/72m7atImSkhLneYPKykrCwsKc\nx6vpPaDT6RgyZAjJycn079+fPn360K9fv8u+dpf7HQJMmDCB5cuX069fP5YtW8YzzzxzyWO///57\nRo4cibe3N4DzU8bChQsvue+OHTvo06cPTZo0AXC+93ft2uX8RHf33XfTsWNHABISEnjzzTdJSUmh\nV69eTJw40fm7EiBhX4eMGDGCr776itDQUEaOHFlln91u5+abb64yDXPu3DkiIyOZP38+P/zwA2PG\njCExMRGr1Yr6zZJHXl5ezn9rNJoq+y5n9uzZzlqqe1xlZWWVxxiNxiq39frLv7V0Ol2Vn0mv12O3\n21FKsXTpUnx8fADHyVMvLy8KCgowGo2XPd7Fx/33NqvVesWfLysri82bN/PTTz/x3XffAY7phQ8/\n/JBhw4ah0+nQaDTO+xcXF1NcXHzJz3W519Jms9G2bVtWrFjh3JadnU1oaCgGg4HBgwezevVq9u/f\nz9ixY501jxw5kilTpjhv5+TkOP/YXM1ra7fbmT59ujOgS0tLMZvNzv1X8x547bXXOHLkCN9//z3v\nvfce//73v51/fH/rcr9DgOHDh/PGG2+wc+dOysrKuOmmmy557H/XfuHChWqnWv7791BRUeE8r6XT\n6Xjvvfd49NFHGTJkCN26daNFixasXbuWXbt2sXPnTu677z5mzZrFgAEDLnt8TyNz9nXIyJEj+eab\nb/j6668vudrg5ptvZvv27c653M2bNzNixAgqKirYtm0bEydO5I477iAsLIzvv/8em812zXUEBQUx\nf/583nzzTee20NBQzp49S15eHkop1qxZc03H3rBhA0VFRdhsNpYvX84tt9yCv78/cXFxLF68GHCE\n691338369euveCx/f3+6devGxx9/DEBJSQlffvlljSdKly1bRkJCAlu3bmXDhg1s2LCBL774gp9/\n/pl9+/bRq1cv1q5d65zzXrhwIR9++OFV/XxxcXGcPHmSPXv2AJCens7gwYPJzs4GHJ+cVq5cyb59\n+xg8eDAAffr0Yc2aNc7zEZ9++ikTJ068que7qE+fPnz88cdYLBbsdjvPP/88b7zxRo2P0+l0WK1W\n8vPz6devH8HBwUyaNIknnnjCOW/+3y73OwTw8fFhxIgRTJ8+vcqnlN+6+eabWb16tbPOmTNnVvte\nSkxMZMeOHc7XZenSpc5zHBEREcTHxzN16lSeeeYZysvL+eSTT3j22Wfp06cPU6ZMoU+fPvz88881\nvgaeQkb2dUijRo1o27YtAQEBBAcHV9nXrl07Zs2axVNPPYVSCr1ez6JFi/Dz8+Oxxx5j3rx5vPXW\nWxgMBuLj4zl16tR11dKzZ08mTZrkPFHarl07kpOTGTNmDBEREfTv37/aMLiStm3b8vDDD1NcXExC\nQgKTJ08GHKPK2bNnM3z4cCwWC8OGDWPEiBGcOXPmisd77bXXmDVrFl988QUWi4Xhw4czevToau9v\nsVj47LPPmDNnTpXtrVq14vbbb+fDDz9kwYIFHD16lLvvvtv5s8+ePdv5KeBKQkNDWbBgAfPmzcNs\nNqOUYt68eTRv3hz4dbpuyJAhztF2nz59eOihh7j//vvRaDT4+/vz9ttvVxnV1uTRRx/l1VdfZdSo\nUdhsNmJiYpg2bVqNjxsyZAgpKSksXLiQP/3pT0yaNAlvb290Oh0vv/zyZR9T3e8QYPTo0Sxfvpw7\n7rjjso9NTk4mKyuL0aNHo5SiZ8+epKSksGjRokvu26FDB6ZMmcKDDz4IOAJ+zpw5nDhxwnmfUaNG\n8e233zJ37lymTp3K7t27GTp0KD4+PjRp0oSUlJQaXwNPoVE1faYXQoiroJTi/fffJysri5deesnd\n5Yj/IiN7IcQNMXDgQCIjI3nnnXfcXYq4DBnZCyGEB5ATtEII4QEk7IUQwgNI2AshhAeosydoU1NT\n3V2CEELUOwkJCZfdXmfDHqovWgghxKWuNEiWaRwhhPAAEvZCCOEBJOyFEMIDSNgLIYQHkLAXQggP\nIGEvhBAeQMJeCCE8gIS9EMJtdmYV8dT6w+zMKnJ3KVctIyODyZMnk5KSwpgxY1iwYAE7d+7kySef\nBODxxx+v9rEpKSnOBkS1rU5/qUoI0bB9+ONZMgrKKKs8yx+aBbm7nBoVFxfz1FNPsXDhQlq1aoXN\nZuMvf/kLERERzvu8/fbbbqywejKyF0K4TZnVVuX/67r169eTmJhIq1atAEdbx1dffbVK8/bevXsD\ncODAAcaNG8fYsWN5/PHHqaiocN5nw4YNpKSkOHsb1wYZ2QshxFXKycmpEuwAfn5+GAyGS+77/PPP\n8+abb9K2bVs+/vhj5/TN2rVr2bNnD++++y6+vr61UjdI2AshxFVr2rTpJU3MT58+7Www/1t5eXm0\nbdsWgAkTJji379ixA5PJhF5fu/Er0zhCCHGVkpKS2Lp1K6dOnQKgsrKSuXPnEhIScsl9IyMjnc3R\n33vvPdauXQvACy+8QJ8+fViwYEGt1Q0S9kIIcdX8/f2ZO3cuzz33HCkpKdx111107NjROYL/rZde\neonp06dzzz33kJ6eTr9+/Zz7HnvsMbZu3crevXtrrfY624M2NTVVljgWooG7d/VBskrMNAvw4qNh\nXdxdTr13pdyUkb0QQngACXshRK1aezyPb4/lVdlmsysW7D2F1V4nJxoaBLkaRwhRazILynh154lL\ntueWWfh3Ri5+Bh0PdGtW+4V5ABnZCyFqTZtgH+7p0gQFzN91gmKzFQCbgg6hvtwV08i9BTZgMrIX\nQtQajUbDxC5NAFhy8BwlFsc3Zw1aDfOS2uNvlEhyFRnZCyFqlUajQa/VVNnma9DV6aCvtFdiqiyl\n0l7p7lKuWd19dYUQDdKXR3JY/MPZKtuKzFa+PZbH4DZhbqrq8ipsZtILj3CuLBuFQoOGJr6NiAmO\nxlvndc3HtdvtzJw5k8OHD2M0Gnn55Zdp2bKlc//y5ctZunQper2eP/3pTyQlJV33zyJhL4SoNedN\nZv5xIMt521tvp8LqmGCYv+sEWg0Mal03At9iq2RHzh7KrOXObQrF2bLzFFqK6B2ZiFF36Zo4V2Pd\nunVYLBaWLVtGWloac+fOZdGiRQDk5uayZMkSPv/8c8xmM+PHj6d3794Yjcbr+nlkGkcIUWv8DDrC\nfe34GW0kNCvHW++41NJbb0evVYT6aGo4Qu05YTpVJeh/q8xazknTqWs+dmpqKn379gUgLi6OgwcP\nOvf98MMPdO/eHaPRSEBAAFFRURw6dOian+siGdkLIWqNRRUzolMBCvDWKzLzHKNVb73izi7FGI3n\ngVC31njRubLsK+4/W5ZN+6BLl0m4GiaTCX9/f+dtnU6H1WpFr9djMpkICAhw7vPz88NkMl3T8/yW\njOyFEC6VXWph2+kCAM6UncNLr5wj+t8K9LaTVXYeu7LXdomXZVNXXmO/pv1X4u/vT2lpqfO23W53\nroL53/tKS0urhP+1krAXQrhMYUUlUzceYea2Y3yVkYvZZr7i/W3Kdl0heiMFGq8csIHGwGs+dnx8\nPFu2bAEgLS2N6Oho577Y2FhSU1Mxm82UlJSQmZlZZf+1kmkcIYRLlFXamL75KKdLHAH/3fE8Jif4\nXPExXlojek3diKXW/lFkl+deYX+LavfVZNCgQWzfvp3k5GSUUsyZM4fFixcTFRXFwIEDSUlJYfz4\n8SilePLJJ/HyuvYrfy5y2at64MABXnvtNZYsWVJl+4YNG/j73/+OXq9nzJgxjBs3zlUlCCHcxGKz\n88LWTA7nlwEQFejNX/u1o8Saw+myM9U+roV/MzSaunGSNsw7lE7BHfi58PAl+zoFdyDM+9rPLWi1\nWmbNmlVl22+XSR43btwNz0aXhP3777/PV199hY9P1b/ilZWVvPLKK3z22Wf4+Phw9913k5SUVKVZ\nrxCifrPZFXN2HGd/dgkAkb5G5iW1R2lK+ang0uC8KMwrlHaBrWurzKvSOiCKRj4RnCk9S7mtAh+d\nN839muKrv/InlLrIJXP2UVFRLFy48JLtmZmZREVFERQUhNFoJCEhoVYX7xdCuJZSirf2nmLr6UIA\ngrz0zEtqj7fewu7c/ViVYy2cCO8wmvk2QfvLKN6g1dMzojs6jc5ttVfHV+9DdFBbuoV2Jjqobb0M\nenDRyH7w4MGcOXPpR7Xfe0lRenq6K8oTQrjIV2ctfJfjCHQvLTzcUk/B2SP85JOLTeu4ysbP6oP/\nBW80aNDZdYACGxw+VP2oX1y/Wj0T8nsvKYqJiamNsoQQN8D6E/l8l3MccCxs9tf+7ekQpmdHzl5s\nNkfQR3iH0yO8G1qNY1LBmHkQzGaMRqP8934DpKamVruvVi+9bNu2LSdPnqSwsBCLxcLevXvp3r17\nbZYghHCRXs2D6NkkEK0GZvRqTUy4kV25qVTYKgAI8wohISzWGfQAvnpdlf8XrlMrI/tVq1ZRVlbG\nXXfdxbRp03jggQdQSjFmzBgaNZL1q4VoCHz0Ombf0o4fc0roHOHNjpy9zuUGgo1B9AiPQ6etGuqT\nujZl+aHzjOvY2B0lexRpOC6EuGY2u0L3X8sVV9or2ZmTSnGl42qcQEMAf4hMwKC9tkXD3EUpxYc/\nniOhcQCxkb9ONx/IKWF/dgkTuzS57stEb/Ql6tJwXAhxw2XklzFxzUEO5f16Hs5qt7Ind78z6P31\nfvSMiK93QQ+w8WQB//rpHM9uOsoPOY6f50BOCdM3HWXJwXNsPFlwXcd///33ee655zCbq36r+OIl\n6h988AFLlixh2bJl5OZW/+WuqyVhL4T43c6UVDBtUwbnTBae3nCEzIIybMrG3gsHKLAUAeCr8yEx\nMh4v3fUtzesu/aJC6B8VQoXNzrO/BPz0TUepsNnpHxVCv6iQ6zp+bV+iLmEvhPhdLpRZmLoxg8Jf\n+sfGNwogKtCLfRd+IM+cD4C3zovEyAS8dd7uLPW66LQapt/c2hn4H/541hn0029ufcn01e81ePBg\n5+JnvyWrXgoh3K7YbGXapgzOl1oA6Bbpz4ybW/NjwU/kVFwAHOvbJEYk1NsvH/2WTqvh9rbhVbYN\naxt+3UF/JbLqpRDCrcqtNmZsOcrxIsellO1CfHipT1sOFx/iXLlj7XfHN2Hj8Tf4ubPUG+ZATgnP\nb8mssu25LZnOOXxXcNUl6hL2QogaVdrsvLTtGD9fcIw4m/l78Uq/dpwsO8qZMkc/Wb1GR8/w+BqX\nBq4vfvjlZOzFqZv/jOteZQ7/Rgf+qlWrWLZsGQaDwXmJenJy8g27RL1urCUqhKiz7Eoxb9cJ9pwr\nBiDMx8Cr/duRbT7JSdNpALQaLT3CuxPsFeTOUm+oCF8jgV56/hDu55yjn36zY6G2ny+UEuF7/See\nmzdvzvLlywEYPny4c/uAAQMYMGDAdR//tyTshRBXVFhh5adfRvQBRh2v9m+PyX6WYyUnANCioUdY\nN8K8r+/qlLqmib8XCwd1IMTb4Jyjvxj4BRWVhN+AsK9NMo0jhLiiUB8Db/2xAx3DfPlrv3YoXQ5H\nih3z2Bo0dA+LJcInvIaj1E/hvsZLTsbqtJp6F/QgYS+EuAoRvkbeHtSRAO9C0guPOLd3C+1MY99I\nN1YmrpaEvRDiErvOFlH0y3X0F50tO8+PBb8uO941JIZmfk1quzRxjSTshRBV7D5bxPNbjvLEusPk\n/HI9/fmyHA7k/+S8T6fgaKL8m7urRHENJOyFEE4/XTAxc1smNgWniivYcrqAnPIL7Mv7AYVjzcTo\noLa0Dmjp5krF7yVhL4QA4HhhOTM2H8Vsc4T6qOgI+rfUk5p3wBn0bQNa0S6gbvWJFVdHwl4IwTmT\nmambMiix2AAY2DKU8Z0D2Zt3ALtydJlq6d+CDkHtrntZX+EeEvZCeLj88kqmbswgr7wSgJ5NAnk4\nPow9F/ZjU47wb+7XlM7BHSTo6zEJeyE8mMli49nNGWSZHGuqdw73438SG7Mvbx9W5bgap4lPI2JD\nOknQ13MS9kJ4KKUUL28/xtECR+vA1kHePNe7OWkF+7HYHaP8SO9w4sK6SNA3ABL2QngojUbDXZ0a\n46vX0tjPyEt9ozhYmEaFzTHKD/MKJT68aoNwUX/J2jhCeLDujQJ4fWAHDFobGaYfKbc5RvkhxmBH\ng3CNroYjiPpC/mQL4UGUUtiVqrKtdbCBMxUHKbU6FjsLNARwU0Qceq0EfUMiYS+EB1mans3L249j\nsTkup7TarezO3U9xpaPtnb/ej8R62iBcXJlM4wjhIdYczeUfB7IAKLPaeLlva/bkpVF4sUG43ofE\nyASM9bRBuLgyGdkL4QG2nC7gb3tPOW/3jwpmX/4P5JsLAPDRefOHiAS8dV7uKlG4mIS9EA3c/vPF\nzPn+OPZfpuof6d6MiMCz5FbkARcbhMfj0wAahIvqSdgL0YAdzivl+a2ZVP6S9HfHNKJ9xAXOl+cA\nYNAaSIxIwK+BNAgX1XNJ2Nvtdl544QXuuusuUlJSOHnyZJX9//znPxk9ejRjxoxh7dq1rihBCI93\nqriCZzcfpdzqOBk7tE0YPVsUkVV2DgC9Rk9iRDwBRn93lilqiUtO0K5btw6LxcKyZctIS0tj7ty5\nLFq0CIDi4mKWLFnCd999R3l5OXfccQeDBg1yRRlCeKycUgtTNx5xNiDp2zyYwe0rOFl6FgCdRstN\nEd0JMga6s0xRi1wysk9NTaVv374AxMXFcfDgQec+Hx8fmjZtSnl5OeXl5fI1bCFcYO/5YnLKHEse\nxDcKYGxnxcnS0wBo0dIjPI5Qr2B3lihqmUtG9iaTCX//Xz8a6nQ6rFYrer3j6Zo0acLtt9+OzWbj\n4YcfrvY46enp1e4TQlSvNTC+hZHv86zc3qyQE6WOyytREFERQu7xHHLJcWuNona5JOz9/f0pLS11\n3rbb7c6g37JlCzk5Oaxfvx6ABx54gPj4eGJjYy85TkxMjCvKE8IjxABJxadILzrs3NY9vCtNfRu7\nryjhUqmpqdXuc8k0Tnx8PFu2bAEgLS2N6Oho576goCC8vb0xGo14eXkREBBAcXGxK8oQwmPY7Iqd\nWUVVtp0pPVsl6GNDOknQezCXjOwHDRrE9u3bSU5ORinFnDlzWLx4MVFRUQwcOJDvv/+ecePGodVq\niY+Pp3fv3q4oQwiPoJRiQeopVh+9wD2dmzCpaxPOl1dtEN45uAMt/Ju5sUrhbhql/mtVpDoiNTWV\nhIQEd5chRJ33wQ9ZfPzTeQB89FrmJjXmVPlPzr6xHYPa0TZQ+sZ6givlpnypSoh67LND2c6gN2g1\nPJ0Yyenyn51B3y6wtQS9ACTshai3vjuex6L9ZwDQauAvN0Vi1h7GjuNLVK39o4gObOvOEkUdImEv\nRD30fVYh83edcN5+uHskWmOGs0F4C79mxARHy/dYhJOEvRD1zA85Jczefsy5sNk9XcIJ8s90Nghv\n6tuYriExEvSiCgl7IeqRMyUVPLflKBabI+lHRofSPOSEs0F4I58IuoV2lqAXl5CwF6IeaeLnRe/m\nIQAMaBlE58ZnsCgLAOHeYXQPkwbh4vKu6jp7k8mERqNh7dq1JCUlERQU5Oq6hBCXodNqmJLYkpgw\nb/x8M6mwVwAQ6hVMj7Bu6CToRTVqDPtnnnmG3r17s3//fux2O2vXruXvf/97bdQmhMDxpanfTstY\n7ZUEBxynpLIMgCBjID3Cu6OTBuHiCmocBmRlZTFy5EgyMzOZNWsWJpOpNuoSQgAVVjtTN2Ww66xj\nKYTKXxqEl/zSIDzA4E/P8HgMWmknLa6sxndIZWUlX3/9Ne3atSM/P5/CwsLaqEsIj2e1K17alknq\n+RLSskt4rlcr9F7HKKp0rCXlp/clMSIeo87g5kpFfVDjyP6hhx7i22+/5eGHH2bJkiU8+eSTtVGX\nEB7NrhTzdp5g9zlHsAd56SlVJyiwOAZbPjpvEiMS8JIG4eIq1Rj2hYWFvPXWWzRu3Ji//OUvnDp1\nqqaHCCGug1KKd/adZv3JfAD8DTomdrdj1zpue+m8SIxMwEfv7c4yRT1T7TTO6tWr2bBhA7t27WLn\nzp2AY136I0eOcO+999ZagUJ4mn/9dJ6VR3IB8NJpmNRdg0bnuG3UGkiMiMdP7+vOEkU9VG3Y9+3b\nl4iICAoLC7nrrrsA0Gq1tGjRotaKE8LTfJWRy4c/XuwTCxO76TEaswFHg/CeEQkEGKRBuPj9qg37\noKAgEhMTSUxMJC8vD7PZDIDNZqu14oTwJBtP5rNgr2OaVAPc09ULf99zAOg0OnpGdCfIGODGCkV9\nVuPVOC+99BKbN28mMjLSeb3v0qVLa6M2ITyGza5YcSibi80lxnbyJizQMcLXarTcFB5HiDQIF9eh\nxrA/cOAA69atQ6uVb+YJ4So6rYZ5Se2ZsSWTVsE2modmAaBBQ0JYLGHeoW6uUNR3NSZ4y5YtnVM4\nQgjX8TeNNi8MAAAd70lEQVTqeayHN+0js5zbuod1JdInwo1ViYaixpH9uXPnSEpKomXLlgAyjSPE\nDZJdakYpaOzvuFb+tCmLjJIjXFwZoVtoZ5r4NnJjhaIhqTHsX3/99dqoQwiPUlBRyZSNGVRY7cxL\nao/RUMQPBT8793cJ6Uhzv6ZurFA0NDWGvV6vZ/78+RQUFDB48GA6dOhAs2bSpV6Ia1VaaePZTUfJ\nKnFMjy5MPcbA9uec+2OC2tPSXy5xFjdWjXP2zz//PGPGjMFisdCjRw/++te/1kZdQjRIFpud57cc\nJaPAsWJl8wADvVuddzYIbx/YhjaBrdxYoWioagx7s9nMzTffjEajoU2bNnh5yVocQlwLm13x8vfH\nOZDjWLEywlfPsJgLeBkcDcLbBLSkfWAbd5YoGrAaw95oNLJ161bsdjtpaWkYjcbaqEuIBkUpxRu7\nT7L9jGMhs0AvHSM7FeJrdHxJMcqvOR2D2ks7QeEyNYb97Nmz+eKLLygoKOCDDz5g5syZtVCWEA3L\ne2lZfHM8DwBfvZbRnYsJ9Ha0E2zm24QuIR0l6IVL1XiCtnHjxsyePVuutRfiGn12KJvlhxzr2xi0\nGkZ1MhHq6/jvqbFPJLGhnSTohctdVVvCffv2ERAQ4FwuYeXKlVd8jN1uZ+bMmRw+fBij0cjLL7/s\nvE4fYPPmzc7Whp06deLFF1+UN7tosLo3CiDEW09RhZWRMRU0CnT0jY3wDqN7WFdpEC5qRY1hf/z4\ncdatW/e7Drpu3TosFgvLli0jLS2NuXPnsmjRIsDRvHz+/Pl89NFHhIaG8v7771NQUEBoqHwdXDRM\nbUN8mT+gNV+f+ImokFIAQr1CSAjrJkEvak2N77TY2FiOHTv2uw6amppK3759AYiLi+PgwYPOffv3\n7yc6OppXX32V8ePHEx4eLkEvGjSLzcKpsoO0CnVchRNsDOKm8DhpEC5qVY0je39/f+688058fX9t\nlrBt27YrPsZkMuHv/+ua2zqdDqvVil6vp6CggF27dvHll1/i6+vLhAkTiIuLo3Xr1tfxYwhRdxzJ\nL2XJwXNMu7k1Rp2dXbn7MFkdI/pAQwA9I7qjlwbhopbV+I7btWsXu3fvRq+/+jenv78/paWlztt2\nu935+ODgYLp27UpEhGNxpx49epCenn7ZsE9PT7/q5xSiLsiusPNmRgUmGzy65gB3dilB6+W46sZg\n1xNS4M/RgqNurlJ4ohoTvFWrVuTl5dGo0dUvyBQfH8/GjRsZOnQoaWlpREdHO/d16dKFI0eOkJ+f\nT2BgIAcOHGDcuHGXPU5MTMxVP6cQ7pZbZmHW2sOYfunvE+SvwOgIel+dDzc36YG39I0VLpSamlrt\nvhrDft++fQwYMIDg4GDnFTM1TeMMGjSI7du3k5ycjFKKOXPmsHjxYqKiohg4cCBPP/00Dz74IABD\nhgyp8sdAiPqoyGxl6sYMcsoc4d4mBAa2z0erAe9fGoRL0At30iilVM13q32pqakkJCS4uwwhalRe\naWPKxgzS8xxTl80DNIzsnIeXHoxaIzdH9sDf4OfmKoUnuFJu1jiyz8jI4MUXX6SkpIThw4fTvn17\nkpKSbniRQtRHFpudF7dlOoM+wlfDsE75eOnBoNWTGBEvQS/qhBovvXz55Zd55ZVXCA4O5s4772Th\nwoW1UZcQdZ7Nrnh15wlSz5cAEOytYWSnAnwNCr1GR8/weAKlQbioI67qGx0tW7ZEo9EQGhqKn5+M\nUoQAOJRfypbTBQD4GRxBH+htR6vR0iO8O8FeQW6uUIhf1Rj2QUFBLF26lPLyctasWUNgYGBt1CVE\nndc53J+X+rbF36hhRKdCwnztaNHQI6wbYd4h7i5PiCpqDPs5c+Zw5swZQkJCOHjwoDQvEeI3GgcW\nMSkhjyYBNjRo6B4WS4RPuLvLEuISNZ6gXbBgAePGjaNdu3a1UY8QdVpGfhntQnzQaDScMp0hvfAI\nxl9WPegW2pnGvpHuLVCIatQY9vHx8cyfP5/S0lJGjx7N0KFD8faW64WF59mZVcQLW48yuE044zoZ\n+LHg1294dw2JoZlfEzdWJ8SV1TiNM2TIEN59913eeOMNtm7dSp8+fWqjLiHqlIO5JmZtz8Sm4OvM\nC3yekeHc1yk4mij/5m6sToia1TiyP3v2LCtXruS7776jU6dOvP/++7VRlxB1RmZBGTM2H8Vsc3z/\nML5pBe3CHN+UjQ5qS+uAlld6uBB1Qo1h/+c//5mxY8fy8ccfV1nJUghPcNZkZtqmDEyVjgVvOkVa\n6Ne6DI0G2ga0ol2ArNYq6ocap3E+//xzoqKi+Prrrzl06JC0JxQeI7+8kmc2HiG/wgpAm9BKBrUz\nodFAS/8WdAhqJx3WRL1R48j+jTfe4Pz582RmZmIwGHjvvfd44403aqM2IdzGZLEydVMG50yO6Zrm\ngVZu71CCTgvN/ZrSObiDBL2oV2oc2aempjJv3jx8fX0ZNWoUZ86cqY26hHAbi83OjC2ZHCssByDC\nz8aITiUYdNDEpxGxIdIgXNQ/NYa9zWbDbDaj0Wiw2WxotdIzUzRsBq2GruGO81PB3nZGdy7GW6+I\n9A4nLqyLBL2ol2qcxpk4cSKjR48mPz+fsWPHMmnSpFooSwj30Wg03NMljPzKUzQLLsPPqAjzCiU+\nPFYahIt6q8awv+222+jVqxcnT56kefPm0hxcNHhmm4Wdufvo3NixbHGIMZge4XHoNNIgXNRf1Yb9\nO++8w6OPPspTTz11ycfW119/3eWFCVGbPvnpHOG+RpJaBrI7N5XS3zQIvykiDr1Wgl7Ub9WG/YAB\nAwBITk6utWKEcIdVGbn884ezABzIs9OpkQkAf70fiRHxGLQGd5YnxA1Rbdh37NgRgKZNm/Ltt99S\nXl7u3NezZ0/XVyZELdh8qoC39p76dYOmDABfvQ+JkQkYdUY3VSbEjVXj2aann36a8vJywsPDnf8T\noiHYe66YOTuOc7EJc/82pXSKtOCj8+YPEQl467zcWp8QN1KNJ2i9vb15/PHHa6MWIWpN+oVSXtyW\nidXuiPrEFuXENzXjpTWSGBGPj97HzRUKcWNVG/bHjx8HIDw8nFWrVtG5c2fnidrWrWU9EFF/nSwq\n59nNGVRY7QDENq6gV1Q5Bq2BxIgE/KRBuGiAqg37F154wfnv5cuXO/+t0Wj46KOPXFuVEC6SXWph\n6qYMSiyOhc2iw80MaFuGQasnMSKeAKMs9icapmrDfsmSJQCYzWYyMzPp1KkT69ato1+/frVWnBA3\n2r9+OkduWSUALYMruS26FINWy00R3QkySn9l0XDVeIJ2ypQpHDhwAHBM7UybNs3lRQnhKn9OaEG3\nRgYaB1gZHlOCQaulR3gcoV7B7i5NCJeqMeyzs7O5++67AXjooYfIyclxeVFCuMrp0lMktctmTOcS\nvHQa4sNjCfcOc3dZQrjcVS30cfFk7cmTJ7Hb7S4tSIgbyWZXZJVUAHCi5DSHijLQasBLr4gL60Ij\nnwg3VyhE7ajx0svp06fzxBNPkJeXh7e3N6NGjarxoHa7nZkzZ3L48GGMRiMvv/wyLVu2vOQ+kydP\nZuDAgc5PDkLcSEop3txzki2nC/lLz2AqNL/2jY0N6URT38ZurE6I2lXjyL5bt27Mnj2bXr16UV5e\nTl5eXo0HXbduHRaLhWXLlvH0008zd+7cS+7zt7/9jaKiomurWoir8M8DZ/nPsTxKK238bXcuv3QW\npHNwB1r4N3NvcULUsmpH9haLhTVr1vDxxx9jNBoxmUysX78eb2/vGg+amppK3759AYiLi+PgwYNV\n9n/zzTdoNBpuueWW6yxfiMtbnn6eT9PPA6DTKG7vYMKgg45B7WgVEOXm6oSofVdcCG3YsGG89tpr\ntGrVigcffPCqgh7AZDJVaU6u0+mwWq3o9XqOHDnC6tWrWbBgAX//+9+veJz09PSr/DGE+NWOPCsf\nn3a0E9SguL2jiRbBVoItAViyKkjPkveV8DzVhv29997L6tWrycrK4s4770QpVd1dL+Hv709paanz\ntt1uR693PNWXX35JdnY2EydOJCsrC4PBQLNmzS47yo+Jifk9P4sQbD9TyKcHMp23B7UrpV1YJa39\no4gJjpYuU6JBS01NrXZftWE/efJkJk+ezO7du1mxYgUHDx5k/vz5jBw5kujo6Cs+YXx8PBs3bmTo\n0KGkpaVVuf8zzzzj/PfChQsJDw+X6RxxQxzIKWH29mP8stwNfVuV0aWxhRZ+zSTohcer8Wqcnj17\n0rNnT4qLi/n3v//NM888w5dffnnFxwwaNIjt27eTnJyMUoo5c+awePFioqKiGDhw4A0rXoiLMvLL\neG7zUSp/Sfoezcq5qXkFTX0b0zUkRoJeeDyN+j3zM7UoNTWVhIQEd5ch6onzJjP/s/Ew50yVdG5k\n5tZ2pTT2jSA+TPrGCs9xpdyscWQvRH0Q5G3nrq5FbD+toXfLciJ8wuguQS+Ek4S9qPcqbGZ25e5D\nq6ugbysI9QqmR1g3dBL0QjjJfw2iXiq32nht1wnOm0rZnbuPUqujnWCQMZAe4d3RSYNwIaqQkb2o\ndyptdl7aeow954vZefYCo7qUEewNAQZ/eobHY9DK21qI/yYje1Gv2OyKuTtPsOd8MQCVdoUW8NP7\nkhgRj1FncG+BQtRREvai3lBK8fa+02w6VQCAl97O6M4lNPIzkhiRgJc0CBeiWhL2ot746OA5vsrI\nBUCvVYzqVEKzQD2JkQn46K9uKQ8hPJWEvagXVh7J4aOD5wDQahQjYky0CtaSGBGPn97XzdUJUfdJ\n2Is6b/2JfN5OPf3LLcVt0aW0C1X0jEggwCANwoW4GhL2ok4rsVh5a+8p5+2BbcvoFGmjZ0R3gowB\nbqxMiPpFwl7UaQFGPY8keOOls9MrqozuTSu5KTyOEGkQLsTvIhckizrtaPFxlP4098ZrCDBCQlg3\nwrxD3V2WEPWOjOxFnZNXXonVrjhecorDRUcBCPBSxId3JVIahAtxTWRkL+qU/PJKnlh3mEg/6Nvm\nHIZfVj3oFtqZJr6N3FucEPWYhL2oM0wWK9M2ZXDWZOasCbQ6X/q3KaNLSEea+zV1d3lC1GsyjSPq\nBLPVznNbMsksLAcg3NfKH6LKiQlqT0v/Fm6uToj6T8JeuJ3Nrpj9/TF+zDUBEORlY3SXErqGtqZN\nYCv3FidEAyFhL9zKrhSv7T7JjqwiAHwNdsZ0KSE2LIr2gW3cXJ0QDYeEvXAbpRT/u/8M3x3PA8BL\nZ2dM5xJiw5vSMai99I0V4gaSsBdu8+nP5/n8cA4AOq1iZCcTcZGRdAnpKEEvxA0mYS/cRqu1AqBB\nMbyjiR6NQ4kN7SRBL4QLyKWXwi3KrOVEBB3ntmiFAhKbBtI9rKs0CBfCRSTsRa2rsFWwKzeVCpuZ\nmEgI9QohIaybBL0QLiRhL2rNobxS9mcX0iT4JGU2x/X0wcYgbgqPkwbhQriYhL2oFaeKK3h2UwbF\nFhsJzezc0gqCjAH0jOiOXhqEC+Fy8rlZuFx2qYUpG45QbLEBUFyhw0/vR8+IeAxaaRAuRG1wyZDK\nbrczc+ZMDh8+jNFo5OWXX6Zly5bO/R9++CFr1qwBoF+/fjz++OOuKEPUAUVmK89sPMKF8koAooIr\nGdPJxs2RPfDSGd1cnRCewyUj+3Xr1mGxWFi2bBlPP/00c+fOde47ffo0X331FUuXLmXZsmVs27aN\nQ4cOuaIM4WZllTae3ZTBmRIzAI39rYzrYqF34wS8pUG4ELXKJSP71NRU+vbtC0BcXBwHDx507mvc\nuDH/+Mc/0OkcJ+SsViteXl6uKEO4kcVm54WtRzmcXwZAqI+NcV0r6Nu4B756HzdXJ4TncUnYm0wm\n/P1/bQSt0+mwWq3o9XoMBgOhoaEopZg3bx6dOnWidevWlz1Oenq6K8oTLmZXig9OmEkrsgMQ4GXj\nzs4ltDSHc/roqRoeLYRwBZeEvb+/P6Wlpc7bdrsdvf7XpzKbzUyfPh0/Pz9efPHFao8TExPjivKE\ni605mktakSPUffR2xnUpY3BUD4K9gtxcmRANW2pqarX7XDJnHx8fz5YtWwBIS0sjOjrauU8pxaOP\nPkqHDh2YNWuWczpHNAxKKVqF5RPbuAKDTjGmSymDo7pJ0AvhZi4Z2Q8aNIjt27eTnJyMUoo5c+aw\nePFioqKisNvt7N69G4vFwtatWwF46qmn6N69uytKEbXsaPFxTphOMbAt9Gxm5o8tYgnzDnF3WUJ4\nPI1SSrm7iMtJTU0lISHB3WWIq1RktpJnySK98AgAGjTEh8XS2DfSzZUJ4TmulJvypSpx3b7PKuTu\nf//Aqszjzm3dQjtL0AtRh0jYi+vyQ04Js7ZlYrYpVqX7k1uqo2tIDM38mri7NCHEb0jYi2t2tKCM\n6ZszqHRcYUl8swpuadqGKP/m7i1MCHEJCXtxTbJKKnhm42HKrY5TPp0jzTzYrYk0CBeijpKwF7/b\nhTILT284TJHZMaRvG2rh4e7h0iBciDpMwl78LiUWK1M2Hia3zNFSsFlgJY8kBNMpRBqEC1GXSdiL\nq1ZutTFt02FOFVsAiPCz8mgPf7qHSYNwIeo6CXtx1QoqSimyOJbBCPa28acEbxIjO0vQC1EPSNiL\nq1JmLePn4jTGdC4iJsLM5AQ9fZt2laAXop6QfnCiRuXWCnbm7MNsM2PUwz2xXtwUIQ3ChahPJOzF\nFS1PP4vOeAJvo6NBeIgxmB7hceg0soCdEPWJhL2o1ueHzvFu2jl8DAbGdNbRLsSXmyLi0Gsl6IWo\nb+RzuListcdzWbQ/C4DySg1lZl8SpUG4EPWWhL24xM6sAubtOonCcfJ1cLtKHujaHaM0CBei3pKw\nF1X8mFvCzG3HsCtH0PdtaeHP3ePw1kmfYCHqMwl74XSssJRnNx1xLmyW0NTC//Toio80CBei3pOw\nFwCcK6ng6Q2HKHesgkBMRCUz/tAFf6P/lR8ohKgXJOwFdrud57alU2x23G4dYmVmnxiCvALcW5gQ\n4oaRsPdwSikOFWXQr00+/kYbTQOszOrbnnBvaRAuREMi19l7uIziYxw3nSLMF8bHmkhs1IWmfqHu\nLksIcYNJ2Hsom11xuOgEx03HAEeD8P7Nu9LIJ8LNlQkhXEHC3gMppXhp+88cKyrhjk4afAyKuLAu\nEvRCNGAyZ++BXt9zmO1nKjhXYuDf6f50DY6hqW9jd5clhHAhCXsP8/6Bo/wn07EmvU6juKdzOFEB\n0iBciIZOpnEaKKUUdhR5FflYlZUAgz+rj+aw9OciADQoHk4IYHCrdm6uVAhRGyTsG6DcMgtTNx2i\nb6tCIgMcF88fuWBg9SF/+GW9m5RYX8a07+DGKoUQtckl0zh2u50XXniBu+66i5SUFE6ePFll//Ll\nyxk9ejTjxo1j48aNrijBo/3fweOcLKpk+UFfzhbrOVmgZ81vgv6PrfXc2ynGvUUKIWqVS0b269at\nw2KxsGzZMtLS0pg7dy6LFi0CIDc3lyVLlvD5559jNpsZP348vXv3xmiUFRVvBKUUPZoXkFGoOJpn\nZMWPAdgUXAz66HAzKV2aSDtBITyMS0b2qamp9O3bF4C4uDgOHjzo3PfDDz/QvXt3jEYjAQEBREVF\ncejQIVeU4ZEs9kpKbSXc3sFE21ALNqXhYtC3CrZwe4dSLpjz3VukEKLWuWRkbzKZ8Pf/dQEtnU6H\n1WpFr9djMpkICPh1zRU/Pz9MJtNlj5Oenu6K8ho0q8YGfo6/4kadqrKvZ4sKNBooKioiPUdeWyE8\niUvC3t/fn9LSUudtu92OXq+/7L7S0tIq4f9bMTEyr/x7KaXIO1fMF0cgPdcLDQq9FirtGr78OYDR\nnUsY0rIVLfybubtUIcQNlpqaWu0+l0zjxMfHs2XLFgDS0tKIjo527ouNjSU1NRWz2UxJSQmZmZlV\n9ovro9Fo2JcVxk85Xug0ilGdTTz6hwLahVmw2DR88VMA2EPcXaYQopa5ZGQ/aNAgtm/fTnJyMkop\n5syZw+LFi4mKimLgwIGkpKQwfvx4lFI8+eSTeHlJF6QbaVzHluw+m06/NsVEBVcCcHsHE98eCaZt\nUBjNA6QZiRCeRqOUUjXfrfalpqaSkJDg7jLqLatdobCSXX4Bq91KoNGfAH0Qeq1GrsQRooG6Um7K\nl6oaKL1WAxho7tfE3aUIIeoAWRtHCCE8gIS9EEJ4AAl7IYTwABL2QgjhASTshRDCA0jYCyGEB5Cw\nF0IID1Cnr7O/0joPQgghrl6d/QatEEKIG0emcYQQwgNI2AshhAeQsK9jMjIymDx5MikpKYwZM4YF\nCxbg6pm2w4cPs2fPHudts9lM7969+cc//lHtY3r37u3SmoRneO+99+jTpw9ms9ndpTR4EvZ1SHFx\nMU899RTTp09nyZIlLF++nCNHjrB06VKXPu93333H0aNHnbe//fZbhg4dysqVK7Hb7S59buHZVq1a\nxdChQ1mzZo27S2nw6vTVOJ5m/fr1JCYm0qpVK8DRzvHVV19l//79PPnkk7z55puAY1S9fft2pk2b\nRmFhIYWFhTzwwAO89957GAwGxo0bR9OmTXnzzTfR6XS0aNGCWbNmsWrVKjZv3kxFRQWnTp3ioYce\nonfv3qxcuRKDwUDnzp2JjY1lxYoVzJgxg/z8fDZv3kxSUhI2m43nn3+eo0eP0qJFCywWixtfKdEQ\n7Nq1i6ioKJKTk5kyZQqjR492d0kNmoR9HZKTk0OLFi2qbPPz88NgMFT7mD/84Q9MmjSJXbt2YTab\nWbFiBUophgwZwieffEJYWBh/+9vfWLlypbMH8D//+U9OnDjBI488wujRoxk1ahTh4eHExsZy4sQJ\nysvL6dixI2PGjOGDDz4gKSmJLVu2YDabWb58OWfPnuXbb7919cshGrgVK1YwduxY2rRpg9Fo5MCB\nA3Tr1s3dZTVYEvZ1SNOmTfn555+rbDt9+nSV+XSgyhx+69atL/l3fn4+OTk5PPHEEwBUVFTQu3dv\noqKi6NixIwBNmjS57Oh8xYoVlJeX88ADDwCwb98+Tp48SUZGBrGxsc46mzSRdfLFtSsqKmLLli3k\n5+ezZMkSTCYT//rXvyTsXUjCvg5JSkri3Xff5e677yYqKorKykrmzp1L165dyc3NBSArK4uioiLn\nY37bdUqrdZyCCQkJoXHjxrzzzjsEBASwfv16fH19OXfu3GW7VGk0Gux2O1arla+//pqVK1cSHBwM\nwKJFi/jkk0+46aabWLNmDRMnTiQ7O5vs7GxXvhSigfvqq68YM2YMU6dOBaC8vJyBAweSn59PaGio\nm6trmCTs6xB/f3/mzp3Lc889h1KK0tJSkpKSeOCBBzhw4ABjx46lbdu2NG/e/IrH0Wq1zJgxg8mT\nJ6OUws/Pj3nz5nHu3LnL3r9Lly7MmzeP8PBwOnfu7Ax6gNGjRzNy5EieeOIJUlNTGTt2LE2bNiUk\nRJqWi2u3YsUK5s2b57zt4+PDrbfeyvLly3nkkUfcWFnDJd+gFUIIDyCXXgohhAeQsBdCCA8gYS+E\nEB5Awl4IITyAhL0QQngACXvhUa608Nann37KwoULAejQoQPr1q1z7tuyZQvTpk2rtTqFuNEk7IVH\nudqFt3x8fJg7dy75+fm1VJkQriVfqhIe43ILb+3du5c5c+YQFBSEVqslLi4OcKxJdN999zFz5kwW\nLFhQ5TjffPMNH3/8sfP2W2+9RUZGhnMhuvPnz5OcnMzOnTs5dOgQ9957L+PHj2f37t2XLE53pXWP\nhLiRZGQvPMblFt565ZVXeP3111m8ePEl30weP348JpOJVatWVdl+4sQJ3nvvPZYsWULr1q3Ztm0b\nAOfPn2fhwoXMnDmTRYsWMW/ePN5//32WLVuGUornn3+et99+m3/96180atSIlStX1trPLoSM7IVH\nqG7hrezsbOcCcvHx8Zw6dcr5GI1Gw5w5c5gwYQJ/+tOfnNvDwsKYOnUqfn5+HDt2zPlpoH379hgM\nBgICAoiKisJoNBIUFITZbK52cTohaouEvfAI1S285e3tTWZmJm3btuXHH38kKCioyuMaN27Mn//8\nZ1599VX69etHSUkJCxYsYNOmTQDcd999zlVIL7fI3EXVLU4nRG2RsBceobqFtxo3buwcpfv5+V0S\n9gB33HEHa9euBRyL1cXHxzNq1Ch8fX0JDAwkJyfnmhenE6K2yEJoQgjhAeQErRBCeAAJeyGE8AAS\n9kII4QEk7IUQwgNI2AshhAeQsBdCCA8gYS+EEB5Awl4IITzA/wfwl/LgdKnw2wAAAABJRU5ErkJg\ngg==\n",
      "text/plain": [
       "<matplotlib.figure.Figure at 0x20d207b8>"
      ]
     },
     "metadata": {},
     "output_type": "display_data"
    }
   ],
   "source": [
    "sns.set_style(\"whitegrid\")\n",
    "sns.pointplot(x=\"AdName\",y=\"Achievements\",hue=\"Click\",data=allads,palette=\"GnBu\",markers=[\"o\",\"x\"],linestyles=[\"-\",\"--\"])\n",
    "plt.title(\"Mean Number of Achievements by clicks\");"
   ]
  },
  {
   "cell_type": "markdown",
   "metadata": {},
   "source": [
    "# CHARTS FOR EXERCISES"
   ]
  },
  {
   "cell_type": "code",
   "execution_count": 457,
   "metadata": {},
   "outputs": [
    {
     "data": {
      "image/png": "iVBORw0KGgoAAAANSUhEUgAAAXMAAAEPCAYAAACwWiQoAAAABHNCSVQICAgIfAhkiAAAAAlwSFlz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\nEZEMMMyJiGTg/wF2KRJ7Nx2sKwAAAABJRU5ErkJggg==\n",
      "text/plain": [
       "<matplotlib.figure.Figure at 0x1fe478d0>"
      ]
     },
     "metadata": {},
     "output_type": "display_data"
    }
   ],
   "source": [
    "sns.set_style(\"whitegrid\")\n",
    "sns.boxplot(x=\"AdName\",y=\"Exercises\",hue=\"AdName\",data=allads, palette=\"GnBu\")\n",
    "plt.title(\"Distribution of Exercises by Ad\");"
   ]
  },
  {
   "cell_type": "code",
   "execution_count": 453,
   "metadata": {},
   "outputs": [
    {
     "data": {
      "image/png": "iVBORw0KGgoAAAANSUhEUgAAAXAAAAECCAYAAADn84z1AAAABHNCSVQICAgIfAhkiAAAAAlwSFlz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\nRU5ErkJggg==\n",
      "text/plain": [
       "<matplotlib.figure.Figure at 0x20e509b0>"
      ]
     },
     "metadata": {},
     "output_type": "display_data"
    }
   ],
   "source": [
    "sns.set_style(\"whitegrid\")\n",
    "sns.kdeplot(totalexe.Exercises, shade=True, color=\"steelblue\")\n",
    "plt.title(\"Exercise Probability\");"
   ]
  },
  {
   "cell_type": "code",
   "execution_count": 396,
   "metadata": {},
   "outputs": [
    {
     "data": {
      "image/png": "iVBORw0KGgoAAAANSUhEUgAAAYkAAAELCAYAAAAspXpuAAAABHNCSVQICAgIfAhkiAAAAAlwSFlz\nAAALEgAACxIB0t1+/AAAIABJREFUeJzt3XlclPWix/HPsKUCRmSLhBrmclAzU9wBW1Q8lkvumGhJ\nmqZ4MDVXwH1Pb+FSap1TWLmEnrzlKW8ucXC/eN0ISxMX0jwqLjDGIvPcP7zOjfRBPDrjmN/36+Xr\n5fzmN/P7PqB8eZ5n5hmLYRgGIiIi1+F2pwOIiIjrUkmIiIgplYSIiJhSSYiIiCmVhIiImFJJiIiI\nKZWE3JSioiL++te/0qlTJzp06EDbtm2ZNWsWBQUFDllv7969xMfH3/TjEhISeO6555g7d26x8e3b\nt1O3bl06dOhQ7M8rr7xymxKbGzt2LFu2bHHoGqtWreKZZ54hOjr6lp9rw4YN1KxZk7Vr1xYbHzVq\nFB988AEANWvWJDs72/Q5YmJiaNy4Mb/++qvpnOzsbGrWrHnLecUxPO50ALm7jB8/ngsXLvDRRx/h\n6+vLpUuXGD58OGPHjmXWrFm3fb1Dhw5x6tSpm37c8uXL2bRpE48++ug191WuXJkvvvjidsS7KVOm\nTHH4Gn//+98ZOnQoHTp0uOXn+vTTT2nXrh1/+9vfaNu27U0//tSpU+zcuZN69erx97//ncjIyFvO\nJM6nkpBSy8rK4j//8z9JTU3Fx8cHgHLlyjFhwgR27doFQE5ODhMmTODAgQNYLBbCwsJ488038fDw\noGbNmmzduhV/f38A++2DBw8yd+5cKlWqxMGDB7l8+TITJkwgICCAd999l5ycHEaPHs20adOK5Tl4\n8CATJ07k/PnzWCwW+vbtS8eOHenZsyeGYdCvXz8SEhIICQkp9TaOHj2aS5cu8c4773Dw4EF69+7N\n0qVLeeKJJ1i4cCHr1q3DZrPx2GOPkZCQwCOPPEJUVBT3338/hw8fJjIykjZt2pCQkMDhw4dxc3Oj\nR48e9O7dm6ioKF5++WVatmzJpEmT2LVrF56engQGBjJt2jS8vb3ZtWsXs2fP5tdff8XNzY3Bgwfz\n7LPPcvr0aUaOHMm5c+cAaNGiBbGxscWyT506lX379pGVlcW5c+fo3Lmz6feiTp06PP/88xw4cIDZ\ns2fz5JNPFnuu48ePs2PHDjZu3Ejbtm3ZvXs39erVu6l/LytWrKBp06ZERETwzjvv0KNHDywWCwDr\n1q1j7ty5lC1bljp16tgfU5rtFCczRErp66+/Njp37lzinLfeesuYNGmSYbPZjPz8fKNv377G+++/\nbxiGYdSoUcM4e/asfe7V29u2bTOCg4ON77//3jAMw/jggw+Ml19+2TAMw0hOTjb69+9/zTqFhYXG\n888/b3zzzTeGYRjGL7/8YoSFhRm7du267lpXbdu2zXjyySeN9u3bF/uzYMECwzAMw2q1Gq1btzZW\nrVplvPDCC8YXX3xhGIZhrF692oiNjTUKCwsNwzCMZcuWGa+99pphGIbRq1cvY/To0fY1Bg0aZMyY\nMcMwDMO4ePGi8cILLxhHjhwxevXqZfzjH/8wdu7cabRp08aw2WyGYRjGzJkzjbS0NOP8+fNG69at\njePHj9u3KTw83Pj555+NefPmGXFxcfaMsbGxxsWLF6/ZvqtrlOZ7sXr1atPv44wZM4yYmBjDMAxj\n/Pjxxl/+8hf7fSNHjjSWLFlS4te5sLDQCA0NNTZs2GDk5+cbDRs2NDZt2mQYhmGcPn3aaNCggXHw\n4EHDMAzjvffeM2rUqGEYhlHq7RTn0Z6ElJqbmxs2m63EOSkpKXz22WdYLBa8vLzo0aMHH330Ef37\n9y/xcQEBAQQHBwNQq1YtVq9eXeL8I0eOkJ+fT+vWrQF45JFHaN26Nf/85z95+umnS3xsSYebypUr\nx9y5c+nWrRvt27enffv2AGzcuJF9+/bRuXNnAGw2W7Hj7L/dW9myZQsjRowAwNfXly+//LLYGjVq\n1MDd3Z2uXbsSGhpKREQEdevW5bvvvuP06dMMGjTIPtdisfDDDz8QFhZG//79OXnyJM2aNWPYsGH4\n+vqWuJ03+l6Y7WEVFBSwatUqpk6dCsBLL71EZGQkJ0+epGLFiiWuedX69eux2WyEhYXh4eFB27Zt\n+fjjj2nRogVpaWnUqFGDatWqAdC9e3fmzJkD8G9tpziWSkJKrW7duhw+fJjc3Fz74Sa4cuw5Li6O\nd999F5vNZj+kAFd+mF6+fPma5/r9ie4yZcrY/26xWDBucEmxoqKiYusAGIZx3bVuVmZmJn5+fmRk\nZFBQUICXlxc2m43XXnuNnj172vNfuHDB/phy5crZ/+7h4VEs2/Hjx3nggQfst8uXL88XX3zBrl27\n2LZtG7GxsURHR1OxYkWeeOIJVq5caZ976tQp/P398fT0ZP369WzdupVt27bRtWtXFi9eXOxQze/d\n6Hvx28y/tXbtWi5evMikSZOYPHkycOV7kpSUxFtvvXXDrx9cOZ+Rl5dnL/GCggJOnz7NwYMHAYp9\nfz08/v/HUN26dW96O8Wx9OomKbVHHnmEdu3aMWbMGHJzcwHIzc1l/Pjx+Pn5UaZMGUJDQ1m6dCmG\nYVBQUMCKFSto1qwZAP7+/uzbtw/gmt+uzbi7u1/3B3/VqlXx8PBg3bp1wJUfpt988419rX9XVlYW\nU6ZM4cMPP6Rq1arMnj0bgNDQUD7//HP7dr/zzjumPzCbNm1KcnIycOUcTZ8+fThy5Ij9/o0bN/LK\nK6/w9NNPExMTQ8eOHdm/fz/16tXj6NGj7Ny5E4CMjAwiIiI4deoUs2fPZsGCBbRs2ZKxY8dSrVo1\n+w9cMyV9L0qybNkyBgwYwMaNG9mwYQMbNmxg/PjxrFy5kkuXLt3w8ZmZmezcuZNVq1bZH5+amkrD\nhg35+OOPadiwIYcOHeLAgQPAlVdkXfXvbKc4lvYk5KYkJCSwYMECevTogbu7OwUFBbRs2ZKYmBgA\nxo0bx+TJk2nXrh2FhYWEhYUxYMAA+30TJ06kfPnyNGvWjIceeuiG69WrV4/58+czePBg5s2bZx/3\n9PRkwYIFTJ48mcTERIqKihg0aBBNmjS54XMeO3bsuq/++fDDDxk2bBjR0dHUqFGD+Ph42rVrR7Nm\nzejatSunTp2iW7duWCwWKlasyPTp06/7/PHx8YwfP5527dphGAavv/56sd+Ew8PDSUlJ4cUXX6Rc\nuXLcf//9TJo0CX9/f959911mzpxJfn4+hmEwc+ZMAgMD6dOnD6NGjeLFF1/Ey8uLmjVr8sILL5S4\nnSV9L8wcOHCAjIwMFixYUGy8Y8eOLFy48IaHAQE+++wzWrZsSZUqVYqNDxo0iNdff52hQ4cye/Zs\nhg8fjqenJw0bNrTP+Xe2UxzLYtxov15ERO5ZOtwkIiKmVBIiImJKJSEiIqZUEiIiYuoP9eqmtLS0\nOx1BROSu1KBBg+uO/6FKAsw3tLQyMjLs7/y9k1whhytkcJUcrpDBVXK4QgZXyeEKGW5HjpJ+wXZI\nSRQWFjJmzBh+/vlnCgoKGDhwINWqVWPUqFFYLBaqV69OQkICbm5uzJs3j02bNuHh4cGYMWOoW7cu\nR48eLfVcERFxHIeUxJo1a/Dz82PWrFmcO3eOl156iT/96U/ExsbSuHFj4uPjWb9+PQEBAezYsYOV\nK1dy8uRJYmJiSE5OZtq0aaWeKyIijuOQkmjTpg0RERH22+7u7qSnp9OoUSPgyjtON2/eTFBQEKGh\noVgsFgICAigqKiI7O/um5l697LSIiNx+DikJb29v4Mp1fYYMGUJsbCwzZsywX2zM29ubnJwccnNz\n8fPzK/a4nJwcDMMo9dzfl0RGRsYtZc/Ly7vl57gdXCGHK2RwlRyukMFVcrhCBlfJ4QoZHJ3DYSeu\nT548yaBBg+jZsyft2rUr9qllVquV8uXL4+Pjg9VqLTbu6+uLm5tbqef+3q2eRPqjnIj6o2RwlRyu\nkMFVcrhCBlfJ4QoZbkeOkk5cO+R9EmfOnKFv376MGDGCLl26AFc+I2D79u3Alevch4SEUL9+fVJT\nU7HZbJw4cQKbzYa/v/9NzRUREcdxyJ7Ee++9x8WLF1mwYIH9apJjx45l8uTJzJkzh6pVqxIREYG7\nuzshISF0794dm81m/8D7kSNHEhcXV6q5IiLiOA4piXHjxjFu3LhrxpcuXXrNWExMjP0y01cFBQWV\neq6IiDiOLsshIiKm/nDvuL6RiElflWLW4RLv/SZOH4IiIvcG7UmIiIgplYSIiJhSSYiIiCmVhIiI\nmFJJiIiIKZWEiIiYUkmIiIgplYSIiJhSSYiIiCmVhIiImFJJiIiIKZWEiIiYUkmIiIgplYSIiJhS\nSYiIiCmVhIiImFJJiIiIKYd9Mt2ePXuYPXs2SUlJDB06lDNnzgDw888/89RTTzF37lwGDBjA+fPn\n8fT05L777mPJkiUcPXqUUaNGYbFYqF69OgkJCbi5uTFv3jw2bdqEh4cHY8aMoW7duo6KLiIi/8ch\nJbF48WLWrFlD2bJlAZg7dy4AFy5coHfv3owePRqAY8eO8dVXX2GxWOyPnTZtGrGxsTRu3Jj4+HjW\nr19PQEAAO3bsYOXKlZw8eZKYmBiSk5MdEV1ERH7DIYebKleuTGJi4jXjiYmJ9OrVi4cffpgzZ85w\n8eJFBgwYQGRkJBs3bgQgPT2dRo0aARAeHs6WLVtIS0sjNDQUi8VCQEAARUVFZGdnOyK6iIj8hkP2\nJCIiIsjKyio2dvbsWbZu3WrfiygsLKRv37707t2bCxcuEBkZSd26dTEMw75n4e3tTU5ODrm5ufj5\n+dmf6+q4v7//NWtnZGQ4YpOcvkZeXp5T1nH1DK6SwxUyuEoOV8jgKjlcIYOjczjsnMTvff3117z4\n4ou4u7sDUKFCBXr06IGHhwcPPvggwcHBZGZm4ub2/zs3VquV8uXL4+Pjg9VqLTbu6+t73XWCg4Nv\nkOTwLW/Ljde4dRkZGU5Zx9UzuEoOV8jgKjlcIYOr5HCFDLcjR1pamul9Tnt109atWwkPD7ff3rJl\nC7GxscCVH/oHDx6katWq1KpVi+3btwOQkpJCSEgI9evXJzU1FZvNxokTJ7DZbNfdixARkdvLaXsS\nmZmZVKpUyX67RYsWpKam0q1bN9zc3HjzzTfx9/dn5MiRxMXFMWfOHKpWrUpERATu7u6EhITQvXt3\nbDYb8fHxzootInJPc1hJBAYGsmLFCvvtr7766po5Y8eOvWYsKCiIpUuXXjMeExNDTEzM7Q0pIiIl\n0pvpRETElEpCRERMqSRERMSUSkJEREypJERExJRKQkRETKkkRETElEpCRERMqSRERMSUSkJEREyp\nJERExJRKQkRETKkkRETElEpCRERMqSRERMSUSkJEREypJERExJRKQkRETKkkRETElMNKYs+ePURF\nRQGQnp5OWFgYUVFRREVFsXbtWgDmzZtHly5d6NGjB3v37gXg6NGjREZG0rNnTxISErDZbKZzRUTE\nsTwc8aSLFy9mzZo1lC1bFoDvv/+eV199lb59+9rnpKens2PHDlauXMnJkyeJiYkhOTmZadOmERsb\nS+PGjYmPj2f9+vUEBARcd66IiDiWQ0qicuXKJCYm8tZbbwGwf/9+MjMzWb9+PVWqVGHMmDGkpaUR\nGhqKxWIhICCAoqIisrOzSU9Pp1GjRgCEh4ezefNmgoKCrjvX39//mrUzMjIcsUlOXyMvL88p67h6\nBlfJ4QoZXCWHK2RwlRyukMHRORxSEhEREWRlZdlv161bl65du1KnTh0WLlzI/Pnz8fX1xc/Pzz7H\n29ubnJwcDMPAYrEUG8vNzb3u3OuVRHBw8A3SHb61jSvVGrcuIyPDKeu4egZXyeEKGVwlhytkcJUc\nrpDhduRIS0szvc8pJ65btWpFnTp17H///vvv8fHxwWq12udYrVZ8fX1xc3MrNla+fHnTuSIi4lhO\nKYno6Gj7yeatW7dSu3Zt6tevT2pqKjabjRMnTmCz2fD396dWrVps374dgJSUFEJCQkznioiIYznk\ncNPvjR8/nkmTJuHp6UmFChWYNGkSPj4+hISE0L17d2w2G/Hx8QCMHDmSuLg45syZQ9WqVYmIiMDd\n3f26c0VExLEcVhKBgYGsWLECgNq1a7Ns2bJr5sTExBATE1NsLCgoiKVLl5ZqroiIOJbeTCciIqZU\nEiIiYkolISIiplQSIiJiSiUhIiKmVBIiImJKJSEiIqZUEiIiYkolISIiplQSIiJiSiUhIiKmVBIi\nImJKJSEiIqZUEiIiYkolISIiplQSIiJiSiUhIiKmVBIiImLKYR9fumfPHmbPnk1SUhIZGRlMmjQJ\nd3d3vLy8mDFjBhUqVGDy5Mns2rULb29vABYsWEBhYSHDhw8nLy+Phx9+mGnTplG2bFlWrFjBsmXL\n8PDwYODAgTz77LOOii4iIv/HISWxePFi1qxZQ9myZQGYMmUKcXFxBAcHs2zZMhYvXszo0aNJT09n\nyZIl+Pv72x87efJkXnzxRTp16sSiRYtYvnw5L7zwAklJSSQnJ5Ofn0/Pnj1p3rw5Xl5ejogvIiL/\nxyGHmypXrkxiYqL99pw5cwgODgagqKiI++67D5vNxtGjR4mPj6dHjx58/vnnAKSlpREWFgZAeHg4\nW7ZsYe/evTz99NN4eXnh6+tL5cqVOXDggCOii4jIbzhkTyIiIoKsrCz77YcffhiAXbt2sXTpUj75\n5BMuXbpEr169ePXVVykqKqJ3797UqVOH3NxcfH19AfD29iYnJ6fY2NXx3Nzc666dkZHhiE1y+hp5\neXlOWcfVM7hKDlfI4Co5XCGDq+RwhQyOzuGwcxK/t3btWhYuXMiiRYvw9/e3F8PVQ1JNmjThwIED\n+Pj4YLVaKVOmDFarlfLly9vHrrJarcVK47eu7rGYO3zL23LjNW5dRkaGU9Zx9QyuksMVMrhKDlfI\n4Co5XCHD7ciRlpZmep9TXt30xRdfsHTpUpKSkqhUqRIAR44coWfPnhQVFVFYWMiuXbuoXbs29evX\n57vvvgMgJSWFBg0aULduXdLS0sjPzycnJ4effvqJGjVqOCO6iMg9zeF7EkVFRUyZMoWKFSsSExMD\nQMOGDRkyZAjt2rWjW7dueHp60qFDB6pXr87AgQMZOXIkK1as4IEHHuDtt9+mXLlyREVF0bNnTwzD\nYOjQodx3332Oji4ics9zWEkEBgayYsUKAHbs2HHdOf369aNfv37FxipUqMAHH3xwzdxu3brRrVu3\n2x9URERM6c10IiJiSiUhIiKmVBIiImJKJSEiIqZUEiIiYkolISIiplQSIiJiSiUhIiKmSlUSCxYs\nKHb77bffdkgYERFxLSW+43rlypV8/vnn/PTTT6SkpABXLrNx+fJlhg0b5pSAIiJy55RYEh06dKBp\n06a8//77DBgwAAA3NzcefPBBp4QTEZE7q8TDTV5eXgQGBjJhwgTOnj3LiRMnyMrKYs+ePc7KJyIi\nd1CpLvA3ZMgQzp49S8WKFQGwWCw0bNjQocFEROTOK1VJnDlzhmXLljk6i4iIuJhSvbopKCiIU6dO\nOTqLiIi4mFLtSaSlpfHss8/i7+9vH0tNTXVYKBERcQ2lKol169Y5OoeIiLigUpXE6NGjrxmbNm3a\nbQ8jIiKupVQl0bZtWwAMw+D777/nX//6l0NDiYiIayjVieuwsDDCwsIIDw9nwIABHDly5IaP2bNn\nD1FRUQAcPXqUyMhIevbsSUJCAjabDYB58+bRpUsXevTowd69e296roiIOFap9iR+e5L69OnTnDlz\npsT5ixcvZs2aNZQtWxa4cmgqNjaWxo0bEx8fz/r16wkICGDHjh2sXLmSkydPEhMTQ3Jy8k3NFRER\nxypVSXz11Vf2v3t5eTF16tQS51euXJnExETeeustANLT02nUqBEA4eHhbN68maCgIEJDQ7FYLAQE\nBFBUVER2dvZNzf3tq62uysjIKN2W3wJnrJGXl+eUdVw9g6vkcIUMrpLDFTK4Sg5XyODoHKUqiWnT\npvHjjz9y6NAhgoKCCA4OLnF+REQEWVlZ9tuGYWCxWADw9vYmJyeH3Nxc/Pz87HOujt/M3OuVxI2y\nweEbbe4N3XiNW5eRkeGUdVw9g6vkcIUMrpLDFTK4Sg5XyHA7cqSlpZneV6qSSEpK4ssvv6Ru3bp8\n+OGH/PnPfyY6OrrUAdzc/v/Uh9VqpXz58vj4+GC1WouN+/r63tRcERFxrFKduP7yyy/55JNPGDt2\nLJ999hlr1669qUVq1arF9u3bAUhJSSEkJIT69euTmpqKzWbjxIkT2Gw2/P39b2quiIg4Vqn2JAzD\nwMPjylRPT088PT1vapGRI0cSFxfHnDlzqFq1KhEREbi7uxMSEkL37t2x2WzEx8ff9FwREXGsUpVE\ngwYNGDJkCA0aNCAtLY2nn376ho8JDAxkxYoVwJVrPy1duvSaOTExMcTExBQbu5m5IiLiWDcsieXL\nl/Pmm2+yefNm9u/fT6NGjejVq5czsomIyB1W4jmJxMRENm/ezOXLl3nmmWfo2LEj27ZtY/78+c7K\nJyIid1CJJZGSksI777xjf1NcYGAgc+fOZcOGDU4JJyIid1aJJVGuXDn7exau8vT0xNvb26GhRETE\nNZRYEmXKlOH48ePFxo4fP35NcYiIyB9TiSeuhw8fzhtvvEHTpk2pVKkSJ06cIDU1lRkzZjgrn4iI\n3EEl7klUr16dTz/9lFq1avHrr79Su3ZtPvvsM2rVquWsfCIicgfd8CWwvr6+dOzY0RlZRETExZTq\nshwiInJvUkmIiIgplYSIiJhSSYiIiCmVhIiImFJJiIiIKZWEiIiYUkmIiIgplYSIiJhSSYiIiKlS\nfXzp7bBq1SpWr14NQH5+PhkZGbz99tvMnDmTihUrAlc+ojQkJITx48fzww8/4OXlxeTJk6lSpQq7\nd+9mypQpuLu7ExoayuDBg50VXUTknuW0kujUqROdOnUCYMKECXTu3Jn09HRGjBhBRESEfd66deso\nKChg+fLl7N69m+nTp7Nw4UISEhJITEykUqVK9O/fn/T0dGrXru2s+CIi9ySnH27at28fhw4donv3\n7qSnp5OcnEzPnj2ZPn06ly9fJi0tjbCwMADq1avH/v37yc3NpaCggMqVK2OxWAgNDWXr1q3Oji4i\ncs9x2p7EVe+//z6DBg0CoHnz5rRs2ZLAwEASEhJYtmwZubm5+Pj42Oe7u7tfM+bt7X3NhyFdlZGR\n4dgNcNIaeXl5TlnH1TO4Sg5XyOAqOVwhg6vkcIUMjs7h1JK4ePEihw8fpkmTJgB07tyZ8uXLA/D8\n88/zzTff4Ovri9VqtT/GZrPh4+NTbMxqtdof93vBwcE3SHH41jaiVGvcuoyMDKes4+oZXCWHK2Rw\nlRyukMFVcrhChtuRIy0tzfQ+px5u2rlzJ82aNQPAMAzat2/PL7/8AsDWrVupXbs29evXJyUlBYDd\nu3dTo0YNfHx88PT05NixYxiGQWpqKiEhIc6MLiJyT3LqnkRmZiaBgYEAWCwWJk+ezODBgylTpgxP\nPPEE3bp1w93dnc2bN9OjRw8Mw2Dq1KnAlZPdw4cPp6ioiNDQUJ566ilnRhcRuSc5tSRee+21YrdD\nQ0MJDQ29Zt7EiROvGatXrx4rVqxwWDYREbmW3kwnIiKmVBIiImJKJSEiIqZUEiIiYkolISIiplQS\nIiJiSiUhIiKmVBIiImJKJSEiIqZUEiIiYkolISIiplQSIiJiSiUhIiKmVBIiImJKJSEiIqZUEiIi\nYkolISIiplQSIiJiSiUhIiKmnPoZ1x07dsTX1xeAwMBAunfvzpQpU3B3dyc0NJTBgwdjs9kYP348\nP/zwA15eXkyePJkqVaqwe/fua+aKiIhjOa0k8vPzAUhKSrKPdejQgcTERCpVqkT//v1JT0/n559/\npqCggOXLl7N7926mT5/OwoULSUhIuGZu7dq1nRVfROSe5LSSOHDgAL/++it9+/bl8uXLxMTEUFBQ\nQOXKlQEIDQ1l69atnD59mrCwMADq1avH/v37yc3Nve5clYSIiGM5rSTKlClDdHQ0Xbt25ciRI/Tr\n14/y5cvb7/f29ub48ePk5ubi4+NjH3d3d79m7Orc68nIyHDcRjhxjby8PKes4+oZXCWHK2RwlRyu\nkMFVcrhCBkfncFpJBAUFUaVKFSwWC0FBQfj6+nL+/Hn7/VarlfLly5OXl4fVarWP22w2fHx8io1d\nnXs9wcHBN0hy+Ja2o3Rr3LqMjAynrOPqGVwlhytkcJUcrpDBVXK4QobbkSMtLc30Pqe9uunzzz9n\n+vTpAJw6dYpff/2VcuXKcezYMQzDIDU1lZCQEOrXr09KSgoAu3fvpkaNGvj4+ODp6XnNXBERcSyn\n7Ul06dKF0aNHExkZicViYerUqbi5uTF8+HCKiooIDQ3lqaee4sknn2Tz5s306NEDwzCYOnUqABMm\nTLhmroiIOJbTSsLLy4u33377mvEVK1YUu+3m5sbEiROvmVevXr1r5oqIiGPpzXQiImJKJSEiIqZU\nEiIiYkolISIiplQSIiJiSiUhIiKmVBIiImJKJSEiIqZUEiIiYkolISIiplQSIiJiSiUhIiKmVBIi\nImLKaVeBlf8XMemrUs40/4Ckb+JeuD1hRERKoD0JERExpZIQERFTKgkRETGlkhAREVMqCRERMeW0\nVzcVFhYyZswYfv75ZwoKChg4cCCPPvooAwYM4PHHHwcgMjKStm3bMm/ePDZt2oSHhwdjxoyhbt26\nHD16lFGjRmGxWKhevToJCQm4uanjREQcyWklsWbNGvz8/Jg1axbnzp3jpZdeYtCgQbz66qv07dvX\nPi89PZ0dO3awcuVKTp48SUxMDMnJyUybNo3Y2FgaN25MfHw869evp1WrVs6KLyJyT3JaSbRp04aI\niAj7bXd3d/bv309mZibr16+nSpUqjBkzhrS0NEJDQ7FYLAQEBFBUVER2djbp6ek0atQIgPDwcDZv\n3nzdksjIyHD4tjhjDVfIkJeX5xLb6go5XCGDq+RwhQyuksMVMjg6h9NKwtvbG4Dc3FyGDBlCbGws\nBQUFdO29W0IRAAANAUlEQVTalTp16rBw4ULmz5+Pr68vfn5+xR6Xk5ODYRhYLJZiY9cTHBx8gyTm\nb1ArrRuvcSOukOHGMjIynLLO3ZDDFTK4Sg5XyOAqOVwhw+3IkZaWZnqfUw/qnzx5kt69e9OhQwfa\ntWtHq1atqFOnDgCtWrXi+++/x8fHB6vVan+M1WrF19e32PkHq9VK+fLlnRldROSe5LSSOHPmDH37\n9mXEiBF06dIFgOjoaPbu3QvA1q1bqV27NvXr1yc1NRWbzcaJEyew2Wz4+/tTq1Yttm/fDkBKSgoh\nISHOii4ics9y2uGm9957j4sXL7JgwQIWLFgAwKhRo5g6dSqenp5UqFCBSZMm4ePjQ0hICN27d8dm\nsxEfHw/AyJEjiYuLY86cOVStWrXY+Q0REXEMp5XEuHHjGDdu3DXjy5Ytu2YsJiaGmJiYYmNBQUEs\nXbrUYfnuRaW70GDJ5090oUGRPza90UBEREypJERExJRKQkRETKkkRETElEpCRERMqSRERMSUSkJE\nREypJERExJRKQkRETKkkRETElEpCRERMqSRERMSU0y7wJ3I9pbvIIJR0oUFdZFDEcbQnISIiplQS\nIiJiSiUhIiKmdE5ChFv/ACadF5E/KpWEiIvQSXxxRXdVSdhsNsaPH88PP/yAl5cXkydPpkqVKnc6\nlsgfiivsVblKYeprcZedk/j2228pKChg+fLlDBs2jOnTp9/pSCIif2h3VUmkpaURFhYGQL169di/\nf/8dTiQi8sdmMQzDuNMhSmvs2LG0bt2aFi1aAPDMM8/w7bff4uFx5ahZWlranYwnInLXatCgwXXH\n76pzEj4+PlitVvttm81mLwgw30gREfn33FWHm+rXr09KSgoAu3fvpkaNGnc4kYjIH9tddbjp6qub\nfvzxRwzDYOrUqTzxxBN3OpaIyB/WXVUSIiLiXHfV4SZHstlsdzoCAK7S2QUFBeTl5d3pGC6loKDg\njq199uzZO7Jubm7uHVm3JNnZ2Xf8/4nNZuPUqVN3/OdGXl6ew/9d3tMlcfz4cd544w3Cw8Np2bIl\nzzzzDP379yczM9OpOY4dO0Z0dDTPPvssderUoVu3bgwbNozTp087LUNmZiZDhgxh2LBh7N69m3bt\n2vHCCy+wdu1ap2VwFRs2bODZZ5+lVatWxbb/tddec1qGzMzMYn8GDhxo/7szNW/enJUrVzp1zd9L\nTk5m3rx5pKen06ZNG1599VXatGnDli1bnJpjzJgxAOzZs4eIiAgGDx7Miy++yO7du52W4erPrPj4\neLZs2ULbtm1p27YtGzdudNyixj0sKirK2L17d7Gx//mf/zG6d+/u1Bx9+/Y1Dh8+bF9/7ty5xr59\n+4x+/fo5LcPLL79sbN682fj666+NRo0aGb/88othtVqNbt26OS2Dq+jatatx7tw5Izs724iKijJW\nrVplGIZh9OrVy2kZWrRoYURERBhRUVFGr169jJCQEKNXr15GVFSU0zIYhmF069bNmDBhghEVFWVs\n377dqWtf1alTJ8NqtRq9e/e2/z/55ZdfjE6dOjk1x9WvfZ8+fYzMzEx7jpdfftlpGXr16mVs377d\nWLVqldGgQQPjzJkzRk5OjkN/Zt1VL4G93QoKCnjqqaeKjdWrV8/pOXJzcwkKCrKvP2fOHGJjY7l4\n8aLTMly+fJlmzZphGAZz5szhkUceASj2EmNniIqKorCwsNiYYRhYLBaWLVvmlAyenp74+fkBsGDB\nAvr06UPFihWxWCxOWR+u/PackJBAZGQkzZs3JyoqiqSkJKetf9V9991HfHw8+/btY9GiRUycOJGm\nTZtSqVIlevfu7ZQMnp6elCtXDm9vbypVqgTAI4884tTvx2+5u7vz+OOP23M485DT5cuXadSoEQDb\nt2/nwQcfBBz7//SeLomaNWsyevRowsLC8PX1xWq18t1331GzZk2n5ggMDCQ+Pp7w8HA2bdpEcHAw\n69ato2zZsk7L8NhjjzF06FCKiorw9vZm7ty5+Pj48NBDDzktA8Dw4cMZN24c8+fPx93d3alrX/XY\nY48xbdo0/vKXv+Dj48O8efOIjo52amk/+OCD/Md//AczZsxg3759Tlv394z/O/b/5JNPkpiYSE5O\nDjt37nTqYa/nnnuOgQMHUqNGDV5//XXCwsL45z//SZMmTZyWASAnJ4dOnTpx6dIlVq5cSfv27Zk+\nfToBAQFOyxAUFMTYsWOZNGmS/bJEixYtokKFCg5b855+dZNhGHz77bekpaWRm5uLj48P9evXp1Wr\nVk79LaWgoICVK1dy6NAhgoOD6dy5M/v27aNKlSo88MADTslw+fJlvvvuOx5//HG8vb3529/+xv33\n30+fPn0oV66cUzJctWTJEqpUqUKrVq2cuu5Vly9fZs2aNfz5z3+2F/WZM2d4//33GTt2rNPzrFq1\nilWrVrF06VKnr7169Wpeeuklp6/7ezt27CA1NZVz587h5+dHgwYNeOaZZ5yeo6CggAMHDlCmTBke\nf/xxkpOT6dKlC56enk5Z32azsWHDBlq2bGkf++KLL2jdurXDfqm8p0tCRERKdk+/uklEREqmkhAR\nEVMqCbmrbN++nZCQEE6ePGkfmz17NqtWrfq3nzMrK4tu3brdjnjXKCoqIjo6msjISC5cuGAfHzVq\nFO3atSMqKsr+53a/HyEjI4N58+bd1ueUe889/eomuTt5enoyevRo/vrXv96xl0GW1unTpzl37tx1\nS2zEiBGEh4c7bO3g4GCCg4Md9vxyb1BJyF2nSZMm2Gw2PvnkE3r16mUfz8rK4s0332TFihUAdOvW\njTlz5rB69WqOHj3KuXPnuHDhAj179mTdunVkZmYyY8YMKlSoQHZ2NgMGDCA7O5sWLVowaNAgTp48\nSVxcHPn5+dx3331MmjSJoqIiBg4ciJ+fH+Hh4fTr18++/po1a/joo4/w8vLi8ccfZ+LEicTFxXHk\nyBHi4+OZOHHiDbctPT2dkSNHsmLFCv7xj3+QkpLCO++8Q1JSEl9++SUWi4W2bdvSu3dvRo0axfnz\n5zl//jwLFy4kMTGRvXv3UlhYSExMDL6+vixbtoy5c+cyatQojh07Rn5+PtHR0bRt25YdO3Ywd+5c\n3N3dqVSpEhMnTiQrK4vRo0fj4eGBu7s7M2fOtL9nRu5NKgm5K40fP56uXbsSGhpaqvllypThgw8+\nYNGiRXz33Xe89957JCcn89VXX9GnTx8uXbrErFmzKFeuHC+//DLPP/887733HlFRUbRo0YKtW7cy\ne/Zshg4dyunTp0lOTsbLy8v+/OfOnSMxMZHVq1fj4+PD1KlTWb58OQkJCbz55pvXLYhZs2axePFi\n++1x48ZRu3ZtunTpwqhRo8jKyuLjjz/m0KFDrF27lk8//RSLxcIrr7xi3+4mTZrwyiuv8F//9V+c\nO3eOzz//nNOnT7N06VKaNWsGXHmz5vbt20lOTgZg8+bNGIZBXFwcn376qf09GatXr6awsJDatWsz\natQo/vu//5sLFy6oJO5xKgm5Kz3wwAOMGTOGUaNGUb9+/evO+e2ru2vVqgWAr68v1apVA+D+++8n\nPz8fgD/96U/4+voCV944lpmZyY8//sj777/PkiVLMAzD/lr4wMDAYgUBV66pU61aNXx8fABo2LAh\nqampJb6W3+xwU48ePZg/fz5vvPEGPj4+/Pjjj5w4cYJXXnkFgAsXLnDs2DEA+zv1MzMz7VcLeOih\nhxg6dCjbt28HrnxYV1xcHHFxceTm5tK+fXuys7P517/+RWxsLHDlQnHNmzdn4MCBLF68mNdeew1f\nX1+GDh1qml/uDTpxLXet5557jqCgIFavXg1cuYTE2bNnKSoq4uLFi2RlZdnn3ujcxU8//YTVauXy\n5cvs3buX6tWrU7VqVYYPH05SUhITJkwgIiICADe3a//bBAYG8tNPP3Hp0iXgypu/rv4Av1kzZ84k\nOjqaVatWcfz4capWrUq1atX4+OOPSUpKolOnTvYP3Lq6XVWrVrW/MzsnJ4fo6Gj78/3rX/8iPT2d\n+fPns2jRImbNmoWvry+PPvooCxYsICkpiQEDBtC4cWPWr19PgwYN+Oijj2jTpg1Lliz5t7ZB/ji0\nJyF3tbFjx7Jt2zbgym/QzZs3p0uXLlSuXJkqVaqU+nnuv/9+hg4dSnZ2Nm3btqVatWqMHDmS8ePH\nk5+fT15eXonvtvb39ycmJobevXvj5uZG5cqVGT58eIlX8v394aaGDRtSu3Ztjhw5QlxcHPXq1WP4\n8OEsXbqUpk2bEhkZSUFBAXXr1r3mENDzzz/P1q1biYyMpKioiEGDBtnve+ihhzh9+jQdO3akXLly\n9O3bFy8vL8aOHUv//v0xDANvb29mzpyJ1WplxIgRJCYm4ubmxujRo0v9NZQ/Jr3jWkRETOlwk4iI\nmFJJiIiIKZWEiIiYUkmIiIgplYSIiJhSSYiIiCmVhIiImPpfa3OvOMenypsAAAAASUVORK5CYII=\n",
      "text/plain": [
       "<matplotlib.figure.Figure at 0x1f58c0f0>"
      ]
     },
     "metadata": {},
     "output_type": "display_data"
    }
   ],
   "source": [
    "sns.set_style(\"whitegrid\")\n",
    "pd.value_counts(allads[\"Exercises\"]).plot.bar(colors=\"steelblue\")\n",
    "plt.ylabel(\"Count\")\n",
    "plt.xlabel(\"Number of Exercises\")\n",
    "plt.title(\"Count of Exercises for All Ads\");"
   ]
  },
  {
   "cell_type": "code",
   "execution_count": 451,
   "metadata": {},
   "outputs": [
    {
     "data": {
      "image/png": "iVBORw0KGgoAAAANSUhEUgAAAXsAAAEPCAYAAACjjWTcAAAABHNCSVQICAgIfAhkiAAAAAlwSFlz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\nYII=\n",
      "text/plain": [
       "<matplotlib.figure.Figure at 0x203ee438>"
      ]
     },
     "metadata": {},
     "output_type": "display_data"
    }
   ],
   "source": [
    "sns.set_style(\"whitegrid\")\n",
    "sns.barplot(x=\"Click\", y=\"Exercises\", data=allads, palette=\"GnBu\")\n",
    "plt.title(\"Mean Exercises According to Click Value\");"
   ]
  },
  {
   "cell_type": "code",
   "execution_count": 450,
   "metadata": {},
   "outputs": [
    {
     "data": {
      "image/png": "iVBORw0KGgoAAAANSUhEUgAAAYkAAAEPCAYAAAC3NDh4AAAABHNCSVQICAgIfAhkiAAAAAlwSFlz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\nAElFTkSuQmCC\n",
      "text/plain": [
       "<matplotlib.figure.Figure at 0x2040e358>"
      ]
     },
     "metadata": {},
     "output_type": "display_data"
    }
   ],
   "source": [
    "sns.set_style(\"whitegrid\")\n",
    "sns.countplot(x=\"Exercises\",hue=\"Click\",data=allads,palette=\"GnBu\")\n",
    "plt.ylabel(\"Count\")\n",
    "plt.title(\"Count of Exercises for All Ads by Clicks\");"
   ]
  },
  {
   "cell_type": "code",
   "execution_count": 442,
   "metadata": {},
   "outputs": [
    {
     "data": {
      "image/png": "iVBORw0KGgoAAAANSUhEUgAAAYkAAAEPCAYAAAC3NDh4AAAABHNCSVQICAgIfAhkiAAAAAlwSFlz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\n",
      "text/plain": [
       "<matplotlib.figure.Figure at 0x229886d8>"
      ]
     },
     "metadata": {},
     "output_type": "display_data"
    }
   ],
   "source": [
    "sns.set_style(\"whitegrid\")\n",
    "sns.countplot(x=\"Exercises\",hue=\"AdName\",data=allads,palette=\"GnBu\")\n",
    "plt.ylabel(\"Count\")\n",
    "plt.title(\"Count of Exercises by Ad Name\");"
   ]
  },
  {
   "cell_type": "code",
   "execution_count": 435,
   "metadata": {},
   "outputs": [
    {
     "data": {
      "image/png": "iVBORw0KGgoAAAANSUhEUgAAAXMAAAEPCAYAAACwWiQoAAAABHNCSVQICAgIfAhkiAAAAAlwSFlz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\nIGEuhBBeQMJcCCG8wP8DI/Lp4ror+tsAAAAASUVORK5CYII=\n",
      "text/plain": [
       "<matplotlib.figure.Figure at 0x20d203c8>"
      ]
     },
     "metadata": {},
     "output_type": "display_data"
    }
   ],
   "source": [
    "sns.set_style(\"whitegrid\")\n",
    "sns.pointplot(x=\"AdName\",y=\"Exercises\",hue=\"Click\",data=allads,palette=\"GnBu\",markers=[\"o\",\"x\"],linestyles=[\"-\",\"--\"])\n",
    "plt.title(\"Mean Number of Exercises by Clicks\");"
   ]
  },
  {
   "cell_type": "code",
   "execution_count": null,
   "metadata": {
    "collapsed": true
   },
   "outputs": [],
   "source": [
    
   ]
  },
  {
   "cell_type": "code",
   "execution_count": 279,
   "metadata": {},
   "outputs": [
    {
     "data": {
      "text/plain": [
       "1.9671764403858143"
      ]
     },
     "execution_count": 279,
     "metadata": {},
     "output_type": "execute_result"
    }
   ],
   "source": [
    "allads.num_exercises.mean()"
   ]
  },
  {
   "cell_type": "code",
   "execution_count": 538,
   "metadata": {},
   "outputs": [
    {
     "data": {
      "text/plain": [
       "Index                                                    25889529\n",
       "UserID                                               967702118657\n",
       "Achievements                                                  567\n",
       "Exercises                                                    2234\n",
       "Points                                                       2234\n",
       "Click                                                         931\n",
       "AdName          CurrentAdCurrentAdCurrentAdCurrentAdCurrentAdC...\n",
       "Button          NoNoNoNoNoNoNoNoNoNoNoNoNoNoNoNoNoNoNoNoNoNoNo...\n",
       "Banner          YesYesYesYesYesYesNoNoYesNoYesYesYesYesYesNoYe...\n",
       "dtype: object"
      ]
     },
     "execution_count": 538,
     "metadata": {},
     "output_type": "execute_result"
    }
   ],
   "source": [
    "\n",
    "allads[(allads.Click >0)].sum()"
   ]
  }
 ],
 "metadata": {
  "kernelspec": {
   "display_name": "Python 2",
   "language": "python",
   "name": "python2"
  },
  "language_info": {
   "codemirror_mode": {
    "name": "ipython",
    "version": 2
   },
   "file_extension": ".py",
   "mimetype": "text/x-python",
   "name": "python",
   "nbconvert_exporter": "python",
   "pygments_lexer": "ipython2",
   "version": "2.7.13"
  }
 },
 "nbformat": 4,
 "nbformat_minor": 2
}
